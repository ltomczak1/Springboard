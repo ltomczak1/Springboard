{
  "nbformat": 4,
  "nbformat_minor": 0,
  "metadata": {
    "colab": {
      "provenance": []
    },
    "kernelspec": {
      "name": "python3",
      "display_name": "Python 3"
    },
    "language_info": {
      "name": "python"
    },
    "gpuClass": "standard"
  },
  "cells": [
    {
      "cell_type": "markdown",
      "source": [
        "# Ultimate Technologies Inc. Take-Home Challenge"
      ],
      "metadata": {
        "id": "VKF95_d7ONZ-"
      }
    },
    {
      "cell_type": "markdown",
      "source": [
        "# Part 1: Exploratory Data Analysis"
      ],
      "metadata": {
        "id": "-y70f6nEOM3C"
      }
    },
    {
      "cell_type": "code",
      "execution_count": 1,
      "metadata": {
        "id": "AAjZf-mzeFfL"
      },
      "outputs": [],
      "source": [
        "#Import dependencies\n",
        "import numpy as np\n",
        "import pandas as pd\n",
        "import matplotlib.pyplot as plt\n",
        "import seaborn as sns\n",
        "from sklearn.model_selection import train_test_split, GridSearchCV\n",
        "from sklearn.preprocessing import MinMaxScaler\n",
        "from sklearn.ensemble import RandomForestClassifier\n",
        "from sklearn.metrics import classification_report, confusion_matrix, ConfusionMatrixDisplay, plot_roc_curve\n"
      ]
    },
    {
      "cell_type": "code",
      "source": [
        "#Create a path to the data.\n",
        "path = '/content/drive/MyDrive/ultimate_challenge/logins.json'"
      ],
      "metadata": {
        "id": "DIoM13gdOqUq"
      },
      "execution_count": 2,
      "outputs": []
    },
    {
      "cell_type": "code",
      "source": [
        "#Read in the data\n",
        "logins = pd.read_json(path, convert_dates=True)"
      ],
      "metadata": {
        "id": "7oWll_CVQtfm"
      },
      "execution_count": 3,
      "outputs": []
    },
    {
      "cell_type": "code",
      "source": [
        "#Explore the dataframe\n",
        "logins.info()"
      ],
      "metadata": {
        "colab": {
          "base_uri": "https://localhost:8080/"
        },
        "id": "G-3L6UZOQ9bG",
        "outputId": "85818e6e-6dde-4164-8084-d4845a608058"
      },
      "execution_count": 4,
      "outputs": [
        {
          "output_type": "stream",
          "name": "stdout",
          "text": [
            "<class 'pandas.core.frame.DataFrame'>\n",
            "RangeIndex: 93142 entries, 0 to 93141\n",
            "Data columns (total 1 columns):\n",
            " #   Column      Non-Null Count  Dtype         \n",
            "---  ------      --------------  -----         \n",
            " 0   login_time  93142 non-null  datetime64[ns]\n",
            "dtypes: datetime64[ns](1)\n",
            "memory usage: 727.8 KB\n"
          ]
        }
      ]
    },
    {
      "cell_type": "code",
      "source": [
        "logins.head()"
      ],
      "metadata": {
        "colab": {
          "base_uri": "https://localhost:8080/",
          "height": 206
        },
        "id": "SK3tyF11RBQU",
        "outputId": "8f91c7e6-713a-47e1-855f-ff58e624b367"
      },
      "execution_count": 5,
      "outputs": [
        {
          "output_type": "execute_result",
          "data": {
            "text/plain": [
              "           login_time\n",
              "0 1970-01-01 20:13:18\n",
              "1 1970-01-01 20:16:10\n",
              "2 1970-01-01 20:16:37\n",
              "3 1970-01-01 20:16:36\n",
              "4 1970-01-01 20:26:21"
            ],
            "text/html": [
              "\n",
              "  <div id=\"df-eb572e52-886e-44f5-a7ec-74fe97a97520\">\n",
              "    <div class=\"colab-df-container\">\n",
              "      <div>\n",
              "<style scoped>\n",
              "    .dataframe tbody tr th:only-of-type {\n",
              "        vertical-align: middle;\n",
              "    }\n",
              "\n",
              "    .dataframe tbody tr th {\n",
              "        vertical-align: top;\n",
              "    }\n",
              "\n",
              "    .dataframe thead th {\n",
              "        text-align: right;\n",
              "    }\n",
              "</style>\n",
              "<table border=\"1\" class=\"dataframe\">\n",
              "  <thead>\n",
              "    <tr style=\"text-align: right;\">\n",
              "      <th></th>\n",
              "      <th>login_time</th>\n",
              "    </tr>\n",
              "  </thead>\n",
              "  <tbody>\n",
              "    <tr>\n",
              "      <th>0</th>\n",
              "      <td>1970-01-01 20:13:18</td>\n",
              "    </tr>\n",
              "    <tr>\n",
              "      <th>1</th>\n",
              "      <td>1970-01-01 20:16:10</td>\n",
              "    </tr>\n",
              "    <tr>\n",
              "      <th>2</th>\n",
              "      <td>1970-01-01 20:16:37</td>\n",
              "    </tr>\n",
              "    <tr>\n",
              "      <th>3</th>\n",
              "      <td>1970-01-01 20:16:36</td>\n",
              "    </tr>\n",
              "    <tr>\n",
              "      <th>4</th>\n",
              "      <td>1970-01-01 20:26:21</td>\n",
              "    </tr>\n",
              "  </tbody>\n",
              "</table>\n",
              "</div>\n",
              "      <button class=\"colab-df-convert\" onclick=\"convertToInteractive('df-eb572e52-886e-44f5-a7ec-74fe97a97520')\"\n",
              "              title=\"Convert this dataframe to an interactive table.\"\n",
              "              style=\"display:none;\">\n",
              "        \n",
              "  <svg xmlns=\"http://www.w3.org/2000/svg\" height=\"24px\"viewBox=\"0 0 24 24\"\n",
              "       width=\"24px\">\n",
              "    <path d=\"M0 0h24v24H0V0z\" fill=\"none\"/>\n",
              "    <path d=\"M18.56 5.44l.94 2.06.94-2.06 2.06-.94-2.06-.94-.94-2.06-.94 2.06-2.06.94zm-11 1L8.5 8.5l.94-2.06 2.06-.94-2.06-.94L8.5 2.5l-.94 2.06-2.06.94zm10 10l.94 2.06.94-2.06 2.06-.94-2.06-.94-.94-2.06-.94 2.06-2.06.94z\"/><path d=\"M17.41 7.96l-1.37-1.37c-.4-.4-.92-.59-1.43-.59-.52 0-1.04.2-1.43.59L10.3 9.45l-7.72 7.72c-.78.78-.78 2.05 0 2.83L4 21.41c.39.39.9.59 1.41.59.51 0 1.02-.2 1.41-.59l7.78-7.78 2.81-2.81c.8-.78.8-2.07 0-2.86zM5.41 20L4 18.59l7.72-7.72 1.47 1.35L5.41 20z\"/>\n",
              "  </svg>\n",
              "      </button>\n",
              "      \n",
              "  <style>\n",
              "    .colab-df-container {\n",
              "      display:flex;\n",
              "      flex-wrap:wrap;\n",
              "      gap: 12px;\n",
              "    }\n",
              "\n",
              "    .colab-df-convert {\n",
              "      background-color: #E8F0FE;\n",
              "      border: none;\n",
              "      border-radius: 50%;\n",
              "      cursor: pointer;\n",
              "      display: none;\n",
              "      fill: #1967D2;\n",
              "      height: 32px;\n",
              "      padding: 0 0 0 0;\n",
              "      width: 32px;\n",
              "    }\n",
              "\n",
              "    .colab-df-convert:hover {\n",
              "      background-color: #E2EBFA;\n",
              "      box-shadow: 0px 1px 2px rgba(60, 64, 67, 0.3), 0px 1px 3px 1px rgba(60, 64, 67, 0.15);\n",
              "      fill: #174EA6;\n",
              "    }\n",
              "\n",
              "    [theme=dark] .colab-df-convert {\n",
              "      background-color: #3B4455;\n",
              "      fill: #D2E3FC;\n",
              "    }\n",
              "\n",
              "    [theme=dark] .colab-df-convert:hover {\n",
              "      background-color: #434B5C;\n",
              "      box-shadow: 0px 1px 3px 1px rgba(0, 0, 0, 0.15);\n",
              "      filter: drop-shadow(0px 1px 2px rgba(0, 0, 0, 0.3));\n",
              "      fill: #FFFFFF;\n",
              "    }\n",
              "  </style>\n",
              "\n",
              "      <script>\n",
              "        const buttonEl =\n",
              "          document.querySelector('#df-eb572e52-886e-44f5-a7ec-74fe97a97520 button.colab-df-convert');\n",
              "        buttonEl.style.display =\n",
              "          google.colab.kernel.accessAllowed ? 'block' : 'none';\n",
              "\n",
              "        async function convertToInteractive(key) {\n",
              "          const element = document.querySelector('#df-eb572e52-886e-44f5-a7ec-74fe97a97520');\n",
              "          const dataTable =\n",
              "            await google.colab.kernel.invokeFunction('convertToInteractive',\n",
              "                                                     [key], {});\n",
              "          if (!dataTable) return;\n",
              "\n",
              "          const docLinkHtml = 'Like what you see? Visit the ' +\n",
              "            '<a target=\"_blank\" href=https://colab.research.google.com/notebooks/data_table.ipynb>data table notebook</a>'\n",
              "            + ' to learn more about interactive tables.';\n",
              "          element.innerHTML = '';\n",
              "          dataTable['output_type'] = 'display_data';\n",
              "          await google.colab.output.renderOutput(dataTable, element);\n",
              "          const docLink = document.createElement('div');\n",
              "          docLink.innerHTML = docLinkHtml;\n",
              "          element.appendChild(docLink);\n",
              "        }\n",
              "      </script>\n",
              "    </div>\n",
              "  </div>\n",
              "  "
            ]
          },
          "metadata": {},
          "execution_count": 5
        }
      ]
    },
    {
      "cell_type": "code",
      "source": [
        "#First, set our index to the login time.\n",
        "logins = logins.set_index('login_time')"
      ],
      "metadata": {
        "id": "kVM5TvSFRbMj"
      },
      "execution_count": 6,
      "outputs": []
    },
    {
      "cell_type": "code",
      "source": [
        "#Create a column to track login count. \n",
        "logins['count'] = 1"
      ],
      "metadata": {
        "id": "9uizH9vVR3KJ"
      },
      "execution_count": 7,
      "outputs": []
    },
    {
      "cell_type": "code",
      "source": [
        "#We can now group logins based on a 15 minute interval\n",
        "logins = logins.resample('15T').count()"
      ],
      "metadata": {
        "id": "0H1fXl87Sd29"
      },
      "execution_count": 8,
      "outputs": []
    },
    {
      "cell_type": "code",
      "source": [
        "#We are asked to report on/illustrate features of demand, such as daily cycles. So we'll extract out the day of week, month, and hour.\n",
        "\n",
        "#Day of week\n",
        "logins['day'] = logins.index.dayofweek\n",
        "\n",
        "#Month of year\n",
        "logins['month'] = logins.index.month\n",
        "\n",
        "#Hour of day\n",
        "logins['hour'] = logins.index.hour\n"
      ],
      "metadata": {
        "id": "DTkuRgtQUez8"
      },
      "execution_count": 9,
      "outputs": []
    },
    {
      "cell_type": "code",
      "source": [
        "#Let's check our progress.\n",
        "logins.head()"
      ],
      "metadata": {
        "colab": {
          "base_uri": "https://localhost:8080/",
          "height": 238
        },
        "id": "hKnmHCk9WTnm",
        "outputId": "6a9d9a7f-902d-4563-a3b2-97af156f7dfa"
      },
      "execution_count": 10,
      "outputs": [
        {
          "output_type": "execute_result",
          "data": {
            "text/plain": [
              "                     count  day  month  hour\n",
              "login_time                                  \n",
              "1970-01-01 20:00:00      2    3      1    20\n",
              "1970-01-01 20:15:00      6    3      1    20\n",
              "1970-01-01 20:30:00      9    3      1    20\n",
              "1970-01-01 20:45:00      7    3      1    20\n",
              "1970-01-01 21:00:00      1    3      1    21"
            ],
            "text/html": [
              "\n",
              "  <div id=\"df-3417b799-2529-41c6-9e46-843db4b8d85b\">\n",
              "    <div class=\"colab-df-container\">\n",
              "      <div>\n",
              "<style scoped>\n",
              "    .dataframe tbody tr th:only-of-type {\n",
              "        vertical-align: middle;\n",
              "    }\n",
              "\n",
              "    .dataframe tbody tr th {\n",
              "        vertical-align: top;\n",
              "    }\n",
              "\n",
              "    .dataframe thead th {\n",
              "        text-align: right;\n",
              "    }\n",
              "</style>\n",
              "<table border=\"1\" class=\"dataframe\">\n",
              "  <thead>\n",
              "    <tr style=\"text-align: right;\">\n",
              "      <th></th>\n",
              "      <th>count</th>\n",
              "      <th>day</th>\n",
              "      <th>month</th>\n",
              "      <th>hour</th>\n",
              "    </tr>\n",
              "    <tr>\n",
              "      <th>login_time</th>\n",
              "      <th></th>\n",
              "      <th></th>\n",
              "      <th></th>\n",
              "      <th></th>\n",
              "    </tr>\n",
              "  </thead>\n",
              "  <tbody>\n",
              "    <tr>\n",
              "      <th>1970-01-01 20:00:00</th>\n",
              "      <td>2</td>\n",
              "      <td>3</td>\n",
              "      <td>1</td>\n",
              "      <td>20</td>\n",
              "    </tr>\n",
              "    <tr>\n",
              "      <th>1970-01-01 20:15:00</th>\n",
              "      <td>6</td>\n",
              "      <td>3</td>\n",
              "      <td>1</td>\n",
              "      <td>20</td>\n",
              "    </tr>\n",
              "    <tr>\n",
              "      <th>1970-01-01 20:30:00</th>\n",
              "      <td>9</td>\n",
              "      <td>3</td>\n",
              "      <td>1</td>\n",
              "      <td>20</td>\n",
              "    </tr>\n",
              "    <tr>\n",
              "      <th>1970-01-01 20:45:00</th>\n",
              "      <td>7</td>\n",
              "      <td>3</td>\n",
              "      <td>1</td>\n",
              "      <td>20</td>\n",
              "    </tr>\n",
              "    <tr>\n",
              "      <th>1970-01-01 21:00:00</th>\n",
              "      <td>1</td>\n",
              "      <td>3</td>\n",
              "      <td>1</td>\n",
              "      <td>21</td>\n",
              "    </tr>\n",
              "  </tbody>\n",
              "</table>\n",
              "</div>\n",
              "      <button class=\"colab-df-convert\" onclick=\"convertToInteractive('df-3417b799-2529-41c6-9e46-843db4b8d85b')\"\n",
              "              title=\"Convert this dataframe to an interactive table.\"\n",
              "              style=\"display:none;\">\n",
              "        \n",
              "  <svg xmlns=\"http://www.w3.org/2000/svg\" height=\"24px\"viewBox=\"0 0 24 24\"\n",
              "       width=\"24px\">\n",
              "    <path d=\"M0 0h24v24H0V0z\" fill=\"none\"/>\n",
              "    <path d=\"M18.56 5.44l.94 2.06.94-2.06 2.06-.94-2.06-.94-.94-2.06-.94 2.06-2.06.94zm-11 1L8.5 8.5l.94-2.06 2.06-.94-2.06-.94L8.5 2.5l-.94 2.06-2.06.94zm10 10l.94 2.06.94-2.06 2.06-.94-2.06-.94-.94-2.06-.94 2.06-2.06.94z\"/><path d=\"M17.41 7.96l-1.37-1.37c-.4-.4-.92-.59-1.43-.59-.52 0-1.04.2-1.43.59L10.3 9.45l-7.72 7.72c-.78.78-.78 2.05 0 2.83L4 21.41c.39.39.9.59 1.41.59.51 0 1.02-.2 1.41-.59l7.78-7.78 2.81-2.81c.8-.78.8-2.07 0-2.86zM5.41 20L4 18.59l7.72-7.72 1.47 1.35L5.41 20z\"/>\n",
              "  </svg>\n",
              "      </button>\n",
              "      \n",
              "  <style>\n",
              "    .colab-df-container {\n",
              "      display:flex;\n",
              "      flex-wrap:wrap;\n",
              "      gap: 12px;\n",
              "    }\n",
              "\n",
              "    .colab-df-convert {\n",
              "      background-color: #E8F0FE;\n",
              "      border: none;\n",
              "      border-radius: 50%;\n",
              "      cursor: pointer;\n",
              "      display: none;\n",
              "      fill: #1967D2;\n",
              "      height: 32px;\n",
              "      padding: 0 0 0 0;\n",
              "      width: 32px;\n",
              "    }\n",
              "\n",
              "    .colab-df-convert:hover {\n",
              "      background-color: #E2EBFA;\n",
              "      box-shadow: 0px 1px 2px rgba(60, 64, 67, 0.3), 0px 1px 3px 1px rgba(60, 64, 67, 0.15);\n",
              "      fill: #174EA6;\n",
              "    }\n",
              "\n",
              "    [theme=dark] .colab-df-convert {\n",
              "      background-color: #3B4455;\n",
              "      fill: #D2E3FC;\n",
              "    }\n",
              "\n",
              "    [theme=dark] .colab-df-convert:hover {\n",
              "      background-color: #434B5C;\n",
              "      box-shadow: 0px 1px 3px 1px rgba(0, 0, 0, 0.15);\n",
              "      filter: drop-shadow(0px 1px 2px rgba(0, 0, 0, 0.3));\n",
              "      fill: #FFFFFF;\n",
              "    }\n",
              "  </style>\n",
              "\n",
              "      <script>\n",
              "        const buttonEl =\n",
              "          document.querySelector('#df-3417b799-2529-41c6-9e46-843db4b8d85b button.colab-df-convert');\n",
              "        buttonEl.style.display =\n",
              "          google.colab.kernel.accessAllowed ? 'block' : 'none';\n",
              "\n",
              "        async function convertToInteractive(key) {\n",
              "          const element = document.querySelector('#df-3417b799-2529-41c6-9e46-843db4b8d85b');\n",
              "          const dataTable =\n",
              "            await google.colab.kernel.invokeFunction('convertToInteractive',\n",
              "                                                     [key], {});\n",
              "          if (!dataTable) return;\n",
              "\n",
              "          const docLinkHtml = 'Like what you see? Visit the ' +\n",
              "            '<a target=\"_blank\" href=https://colab.research.google.com/notebooks/data_table.ipynb>data table notebook</a>'\n",
              "            + ' to learn more about interactive tables.';\n",
              "          element.innerHTML = '';\n",
              "          dataTable['output_type'] = 'display_data';\n",
              "          await google.colab.output.renderOutput(dataTable, element);\n",
              "          const docLink = document.createElement('div');\n",
              "          docLink.innerHTML = docLinkHtml;\n",
              "          element.appendChild(docLink);\n",
              "        }\n",
              "      </script>\n",
              "    </div>\n",
              "  </div>\n",
              "  "
            ]
          },
          "metadata": {},
          "execution_count": 10
        }
      ]
    },
    {
      "cell_type": "code",
      "source": [
        "#We'll do a final check for missing data before visualization.\n",
        "logins.info()"
      ],
      "metadata": {
        "colab": {
          "base_uri": "https://localhost:8080/"
        },
        "id": "psVAJFQkXj7Z",
        "outputId": "13c6a907-58e3-4f80-b8a1-6b91ef0f0ec7"
      },
      "execution_count": 11,
      "outputs": [
        {
          "output_type": "stream",
          "name": "stdout",
          "text": [
            "<class 'pandas.core.frame.DataFrame'>\n",
            "DatetimeIndex: 9788 entries, 1970-01-01 20:00:00 to 1970-04-13 18:45:00\n",
            "Freq: 15T\n",
            "Data columns (total 4 columns):\n",
            " #   Column  Non-Null Count  Dtype\n",
            "---  ------  --------------  -----\n",
            " 0   count   9788 non-null   int64\n",
            " 1   day     9788 non-null   int64\n",
            " 2   month   9788 non-null   int64\n",
            " 3   hour    9788 non-null   int64\n",
            "dtypes: int64(4)\n",
            "memory usage: 382.3 KB\n"
          ]
        }
      ]
    },
    {
      "cell_type": "code",
      "source": [
        "#Let's begin visualization at the highest level, month, and work our way down.\n",
        "_ = sns.set()\n",
        "_ = plt.figure(figsize=(12,6))\n",
        "_ = logins.groupby('month')['count'].sum().plot(kind='bar')\n",
        "_ = plt.title('Logins Per Month', size='large')\n",
        "_ = plt.xticks(range(len(logins['month'].unique())), ['January', 'February', 'March', 'April'])\n",
        "_ = plt.xlabel('Month')\n",
        "_ = plt.ylabel('Number of Logins')"
      ],
      "metadata": {
        "colab": {
          "base_uri": "https://localhost:8080/",
          "height": 450
        },
        "id": "pixGMJeNZF3T",
        "outputId": "d492b2ea-b2af-4bdd-c20d-911520af2e54"
      },
      "execution_count": 12,
      "outputs": [
        {
          "output_type": "display_data",
          "data": {
            "text/plain": [
              "<Figure size 864x432 with 1 Axes>"
            ],
            "image/png": "[encoded data removed]"
          },
          "metadata": {}
        }
      ]
    },
    {
      "cell_type": "code",
      "source": [
        "#Logins pe day of week.\n",
        "_ = sns.set()\n",
        "_ = plt.figure(figsize=(12,6))\n",
        "_ = logins.groupby('day')['count'].sum().plot(kind='bar')\n",
        "_ = plt.title('Logins Per Day of Week', size='large')\n",
        "_ = plt.xticks(range(len(logins['day'].unique())), ['Monday', 'Tuesday', 'Wednesday', 'Thursday', 'Friday', 'Saturday', 'Sunday'])\n",
        "_ = plt.xlabel('Day of Week')\n",
        "_ = plt.ylabel('Number of Logins')"
      ],
      "metadata": {
        "colab": {
          "base_uri": "https://localhost:8080/",
          "height": 465
        },
        "id": "vn4pjGAYcicq",
        "outputId": "e687eb3b-311d-4379-c73a-b3e9a72f0206"
      },
      "execution_count": 13,
      "outputs": [
        {
          "output_type": "display_data",
          "data": {
            "text/plain": [
              "<Figure size 864x432 with 1 Axes>"
            ],
            "image/png": "[encoded data removed]"
          },
          "metadata": {}
        }
      ]
    },
    {
      "cell_type": "code",
      "source": [
        "#Logins per hour.\n",
        "_ = sns.set()\n",
        "_ = plt.figure(figsize=(12,6))\n",
        "_ = logins.groupby('hour')['count'].sum().plot(kind='bar')\n",
        "_ = plt.title('Logins Per Hour', size='large')\n",
        "_ = plt.xticks(range(len(logins['hour'].unique())), ['12 AM', '1 AM', '2 AM', '3 AM', '4 AM', '5 AM', '6 AM', '7 AM',\n",
        "                                                     '8 AM', '9 AM', '10 AM', '11 AM', '12 PM', '1 PM', '2 PM', '3 PM',\n",
        "                                                     '4 PM', '5PM', '6 PM', '7 PM', '8PM', '9 PM', '10 PM', '11 PM'])\n",
        "_ = plt.xlabel('Hour')\n",
        "_ = plt.ylabel('Number of Logins')"
      ],
      "metadata": {
        "colab": {
          "base_uri": "https://localhost:8080/",
          "height": 435
        },
        "id": "wE7uTw-QdH9I",
        "outputId": "2084f278-4894-4877-b131-42371cb26bf8"
      },
      "execution_count": 14,
      "outputs": [
        {
          "output_type": "display_data",
          "data": {
            "text/plain": [
              "<Figure size 864x432 with 1 Axes>"
            ],
            "image/png": "[encoded data removed]"
          },
          "metadata": {}
        }
      ]
    },
    {
      "cell_type": "markdown",
      "source": [
        "# Part 2: Experiment and Metrics Design"
      ],
      "metadata": {
        "id": "dOGvqak2gX4c"
      }
    },
    {
      "cell_type": "markdown",
      "source": [
        "## Context\n",
        "*The neighboring cities of Gotham and Metropolis have complementary circadian rhythms: on weekdays, Ultimate Gotham is most active at night, and Ultimate Metropolis is most active during the day. On weekends, there is reasonable activity in both cities. However, a toll bridge, with a two way toll, between the two cities causes driver partners to tend to be exclusive to each city. The Ultimate managers of city operations for the two cities have\n",
        "proposed an experiment to encourage driver partners to be available in both cities, by reimbursing all toll costs.*"
      ],
      "metadata": {
        "id": "tD54aNr9kngZ"
      }
    },
    {
      "cell_type": "markdown",
      "source": [
        "## Question 1\n",
        "*What would you choose as the key measure of success of this experiment in\n",
        "encouraging driver partners to serve both cities, and why would you choose this metric?*"
      ],
      "metadata": {
        "id": "4h9fJRb1k7u5"
      }
    },
    {
      "cell_type": "markdown",
      "source": [
        "## Response\n",
        "\n",
        "The key measure of success is largely determined by Ultimate. Given the limited description, it sounds as if the issue is primarily limited to drivers accepting trips that cross the toll bridge.\n",
        "\n",
        "In this instance, the metric should likely be percentage of cross-city trips accepted by the driver. I would suggest Ultimate calculate the metric for the current model, implement the change, and track the metric to look for an increase in the percentage of cross-city trips accepted by the drivers. A increased percentage of cross-city trips would indicate whether or not a driver is staying exclusive to one area."
      ],
      "metadata": {
        "id": "zTJOHIbQlcu6"
      }
    },
    {
      "cell_type": "markdown",
      "source": [
        "## Question 2\n",
        "*Describe a practical experiment you would design to compare the effectiveness of the proposed change in relation to the key measure of success. Please provide details on:*\n",
        "\n",
        "*a. how you will implement the experiment;*\n",
        "\n",
        "*b. what statistical test(s) you will conduct to verify the significance of the observation; and*\n",
        "\n",
        "*c. how you would interpret the results and provide recommendations to the city operations team along with any caveats.*"
      ],
      "metadata": {
        "id": "mNr5eMglliXW"
      }
    },
    {
      "cell_type": "markdown",
      "source": [
        "## Response\n",
        "\n",
        "a.) This is a perfect scenario for A/B testing. In A/B testing, we compare two versions of product or service in order to determine which is more effective. In this case, we would split the Ultimate service into two groups; a treatment group and control group. The treatment group would be reimbursed for tolls on trips crossing the toll bridge, and the control group would not be reimbursed.\n",
        "\n",
        "b.) After a specified time period, we can refer back to our chosen key metric. In this case, we'd compare percentage of cross-city trips between groups. If our treatment group saw an increase in percentage of cross-city trips taken and the control group did not, it's likely the toll reimbursement plan would have served its intended purpose. \n",
        "\n",
        "The traditionally sought method would be creating a null hypothesis stating toll reimbursement does not have an affect on encouraging driver partners to serve both cities, select a confidence interval (likely, 95%,) and either reject or refuse to reject the null hypothesis.\n",
        "\n",
        "c.) It's worth noting there are some problems with confidence intervals, and we should not rely fully on the confidence interval to reject or refuse to reject the null hypothesis. Rather, I think it makes sense to address this from a machine learning perspective. \n",
        "\n",
        "A dataset should probably be designed to predict a target, y, on whether or not a driver would accept a cross-city ride. Features may include whether or not a the toll would be reimbursed, our key metric of \"percentage of cross city rides accepted,\" surge charges, average distance, and more. \n",
        "\n",
        "We can then build a model to predict whether or not the driver would accept a specific cross-city ride. From this model, we can extract feature importances and get a much clearer understanding of what, specifically, contributes to drivers serving both cities. \n",
        "\n",
        "The incredible aspect of this machine learning approach is we do not assume what the key metric is. The model will help inform that, and likely reveal other metrics we may not have considered.\n",
        "\n",
        "Based on this model, we can recommend actual insights to the city operations team."
      ],
      "metadata": {
        "id": "BUTQ9tNXl-3V"
      }
    },
    {
      "cell_type": "markdown",
      "source": [
        "# Part 3: Predictive Modeling"
      ],
      "metadata": {
        "id": "-USoq6Z4hS32"
      }
    },
    {
      "cell_type": "markdown",
      "source": [
        "### 1. Load and Clean Data"
      ],
      "metadata": {
        "id": "XHtemLC0Oa31"
      }
    },
    {
      "cell_type": "code",
      "source": [
        "#Create a path to the data.\n",
        "path = '/content/drive/MyDrive/ultimate_challenge/ultimate_data_challenge.json'"
      ],
      "metadata": {
        "id": "uq-6DlachWHQ"
      },
      "execution_count": 15,
      "outputs": []
    },
    {
      "cell_type": "code",
      "source": [
        "#Read in the data.\n",
        "users = pd.read_json(path)"
      ],
      "metadata": {
        "id": "JisSpS66dNzB"
      },
      "execution_count": 16,
      "outputs": []
    },
    {
      "cell_type": "code",
      "source": [
        "#Explore the dataframe\n",
        "users.info()"
      ],
      "metadata": {
        "colab": {
          "base_uri": "https://localhost:8080/"
        },
        "id": "nV_wMA3Mdw6t",
        "outputId": "25329a42-23c6-4fdd-9a41-ce762f920fd9"
      },
      "execution_count": 17,
      "outputs": [
        {
          "output_type": "stream",
          "name": "stdout",
          "text": [
            "<class 'pandas.core.frame.DataFrame'>\n",
            "RangeIndex: 50000 entries, 0 to 49999\n",
            "Data columns (total 12 columns):\n",
            " #   Column                  Non-Null Count  Dtype  \n",
            "---  ------                  --------------  -----  \n",
            " 0   city                    50000 non-null  object \n",
            " 1   trips_in_first_30_days  50000 non-null  int64  \n",
            " 2   signup_date             50000 non-null  object \n",
            " 3   avg_rating_of_driver    41878 non-null  float64\n",
            " 4   avg_surge               50000 non-null  float64\n",
            " 5   last_trip_date          50000 non-null  object \n",
            " 6   phone                   49604 non-null  object \n",
            " 7   surge_pct               50000 non-null  float64\n",
            " 8   ultimate_black_user     50000 non-null  bool   \n",
            " 9   weekday_pct             50000 non-null  float64\n",
            " 10  avg_dist                50000 non-null  float64\n",
            " 11  avg_rating_by_driver    49799 non-null  float64\n",
            "dtypes: bool(1), float64(6), int64(1), object(4)\n",
            "memory usage: 4.2+ MB\n"
          ]
        }
      ]
    },
    {
      "cell_type": "code",
      "source": [
        "users.head()"
      ],
      "metadata": {
        "colab": {
          "base_uri": "https://localhost:8080/",
          "height": 305
        },
        "id": "jW8Vc2gkdzaP",
        "outputId": "b7417d3a-89f7-47e8-b392-171d0d24ca40"
      },
      "execution_count": 18,
      "outputs": [
        {
          "output_type": "execute_result",
          "data": {
            "text/plain": [
              "             city  trips_in_first_30_days signup_date  avg_rating_of_driver  \\\n",
              "0  King's Landing                       4  2014-01-25                   4.7   \n",
              "1         Astapor                       0  2014-01-29                   5.0   \n",
              "2         Astapor                       3  2014-01-06                   4.3   \n",
              "3  King's Landing                       9  2014-01-10                   4.6   \n",
              "4      Winterfell                      14  2014-01-27                   4.4   \n",
              "\n",
              "   avg_surge last_trip_date    phone  surge_pct  ultimate_black_user  \\\n",
              "0       1.10     2014-06-17   iPhone       15.4                 True   \n",
              "1       1.00     2014-05-05  Android        0.0                False   \n",
              "2       1.00     2014-01-07   iPhone        0.0                False   \n",
              "3       1.14     2014-06-29   iPhone       20.0                 True   \n",
              "4       1.19     2014-03-15  Android       11.8                False   \n",
              "\n",
              "   weekday_pct  avg_dist  avg_rating_by_driver  \n",
              "0         46.2      3.67                   5.0  \n",
              "1         50.0      8.26                   5.0  \n",
              "2        100.0      0.77                   5.0  \n",
              "3         80.0      2.36                   4.9  \n",
              "4         82.4      3.13                   4.9  "
            ],
            "text/html": [
              "\n",
              "  <div id=\"df-8a63657d-2b3c-45b7-9c88-87983f8d9c01\">\n",
              "    <div class=\"colab-df-container\">\n",
              "      <div>\n",
              "<style scoped>\n",
              "    .dataframe tbody tr th:only-of-type {\n",
              "        vertical-align: middle;\n",
              "    }\n",
              "\n",
              "    .dataframe tbody tr th {\n",
              "        vertical-align: top;\n",
              "    }\n",
              "\n",
              "    .dataframe thead th {\n",
              "        text-align: right;\n",
              "    }\n",
              "</style>\n",
              "<table border=\"1\" class=\"dataframe\">\n",
              "  <thead>\n",
              "    <tr style=\"text-align: right;\">\n",
              "      <th></th>\n",
              "      <th>city</th>\n",
              "      <th>trips_in_first_30_days</th>\n",
              "      <th>signup_date</th>\n",
              "      <th>avg_rating_of_driver</th>\n",
              "      <th>avg_surge</th>\n",
              "      <th>last_trip_date</th>\n",
              "      <th>phone</th>\n",
              "      <th>surge_pct</th>\n",
              "      <th>ultimate_black_user</th>\n",
              "      <th>weekday_pct</th>\n",
              "      <th>avg_dist</th>\n",
              "      <th>avg_rating_by_driver</th>\n",
              "    </tr>\n",
              "  </thead>\n",
              "  <tbody>\n",
              "    <tr>\n",
              "      <th>0</th>\n",
              "      <td>King's Landing</td>\n",
              "      <td>4</td>\n",
              "      <td>2014-01-25</td>\n",
              "      <td>4.7</td>\n",
              "      <td>1.10</td>\n",
              "      <td>2014-06-17</td>\n",
              "      <td>iPhone</td>\n",
              "      <td>15.4</td>\n",
              "      <td>True</td>\n",
              "      <td>46.2</td>\n",
              "      <td>3.67</td>\n",
              "      <td>5.0</td>\n",
              "    </tr>\n",
              "    <tr>\n",
              "      <th>1</th>\n",
              "      <td>Astapor</td>\n",
              "      <td>0</td>\n",
              "      <td>2014-01-29</td>\n",
              "      <td>5.0</td>\n",
              "      <td>1.00</td>\n",
              "      <td>2014-05-05</td>\n",
              "      <td>Android</td>\n",
              "      <td>0.0</td>\n",
              "      <td>False</td>\n",
              "      <td>50.0</td>\n",
              "      <td>8.26</td>\n",
              "      <td>5.0</td>\n",
              "    </tr>\n",
              "    <tr>\n",
              "      <th>2</th>\n",
              "      <td>Astapor</td>\n",
              "      <td>3</td>\n",
              "      <td>2014-01-06</td>\n",
              "      <td>4.3</td>\n",
              "      <td>1.00</td>\n",
              "      <td>2014-01-07</td>\n",
              "      <td>iPhone</td>\n",
              "      <td>0.0</td>\n",
              "      <td>False</td>\n",
              "      <td>100.0</td>\n",
              "      <td>0.77</td>\n",
              "      <td>5.0</td>\n",
              "    </tr>\n",
              "    <tr>\n",
              "      <th>3</th>\n",
              "      <td>King's Landing</td>\n",
              "      <td>9</td>\n",
              "      <td>2014-01-10</td>\n",
              "      <td>4.6</td>\n",
              "      <td>1.14</td>\n",
              "      <td>2014-06-29</td>\n",
              "      <td>iPhone</td>\n",
              "      <td>20.0</td>\n",
              "      <td>True</td>\n",
              "      <td>80.0</td>\n",
              "      <td>2.36</td>\n",
              "      <td>4.9</td>\n",
              "    </tr>\n",
              "    <tr>\n",
              "      <th>4</th>\n",
              "      <td>Winterfell</td>\n",
              "      <td>14</td>\n",
              "      <td>2014-01-27</td>\n",
              "      <td>4.4</td>\n",
              "      <td>1.19</td>\n",
              "      <td>2014-03-15</td>\n",
              "      <td>Android</td>\n",
              "      <td>11.8</td>\n",
              "      <td>False</td>\n",
              "      <td>82.4</td>\n",
              "      <td>3.13</td>\n",
              "      <td>4.9</td>\n",
              "    </tr>\n",
              "  </tbody>\n",
              "</table>\n",
              "</div>\n",
              "      <button class=\"colab-df-convert\" onclick=\"convertToInteractive('df-8a63657d-2b3c-45b7-9c88-87983f8d9c01')\"\n",
              "              title=\"Convert this dataframe to an interactive table.\"\n",
              "              style=\"display:none;\">\n",
              "        \n",
              "  <svg xmlns=\"http://www.w3.org/2000/svg\" height=\"24px\"viewBox=\"0 0 24 24\"\n",
              "       width=\"24px\">\n",
              "    <path d=\"M0 0h24v24H0V0z\" fill=\"none\"/>\n",
              "    <path d=\"M18.56 5.44l.94 2.06.94-2.06 2.06-.94-2.06-.94-.94-2.06-.94 2.06-2.06.94zm-11 1L8.5 8.5l.94-2.06 2.06-.94-2.06-.94L8.5 2.5l-.94 2.06-2.06.94zm10 10l.94 2.06.94-2.06 2.06-.94-2.06-.94-.94-2.06-.94 2.06-2.06.94z\"/><path d=\"M17.41 7.96l-1.37-1.37c-.4-.4-.92-.59-1.43-.59-.52 0-1.04.2-1.43.59L10.3 9.45l-7.72 7.72c-.78.78-.78 2.05 0 2.83L4 21.41c.39.39.9.59 1.41.59.51 0 1.02-.2 1.41-.59l7.78-7.78 2.81-2.81c.8-.78.8-2.07 0-2.86zM5.41 20L4 18.59l7.72-7.72 1.47 1.35L5.41 20z\"/>\n",
              "  </svg>\n",
              "      </button>\n",
              "      \n",
              "  <style>\n",
              "    .colab-df-container {\n",
              "      display:flex;\n",
              "      flex-wrap:wrap;\n",
              "      gap: 12px;\n",
              "    }\n",
              "\n",
              "    .colab-df-convert {\n",
              "      background-color: #E8F0FE;\n",
              "      border: none;\n",
              "      border-radius: 50%;\n",
              "      cursor: pointer;\n",
              "      display: none;\n",
              "      fill: #1967D2;\n",
              "      height: 32px;\n",
              "      padding: 0 0 0 0;\n",
              "      width: 32px;\n",
              "    }\n",
              "\n",
              "    .colab-df-convert:hover {\n",
              "      background-color: #E2EBFA;\n",
              "      box-shadow: 0px 1px 2px rgba(60, 64, 67, 0.3), 0px 1px 3px 1px rgba(60, 64, 67, 0.15);\n",
              "      fill: #174EA6;\n",
              "    }\n",
              "\n",
              "    [theme=dark] .colab-df-convert {\n",
              "      background-color: #3B4455;\n",
              "      fill: #D2E3FC;\n",
              "    }\n",
              "\n",
              "    [theme=dark] .colab-df-convert:hover {\n",
              "      background-color: #434B5C;\n",
              "      box-shadow: 0px 1px 3px 1px rgba(0, 0, 0, 0.15);\n",
              "      filter: drop-shadow(0px 1px 2px rgba(0, 0, 0, 0.3));\n",
              "      fill: #FFFFFF;\n",
              "    }\n",
              "  </style>\n",
              "\n",
              "      <script>\n",
              "        const buttonEl =\n",
              "          document.querySelector('#df-8a63657d-2b3c-45b7-9c88-87983f8d9c01 button.colab-df-convert');\n",
              "        buttonEl.style.display =\n",
              "          google.colab.kernel.accessAllowed ? 'block' : 'none';\n",
              "\n",
              "        async function convertToInteractive(key) {\n",
              "          const element = document.querySelector('#df-8a63657d-2b3c-45b7-9c88-87983f8d9c01');\n",
              "          const dataTable =\n",
              "            await google.colab.kernel.invokeFunction('convertToInteractive',\n",
              "                                                     [key], {});\n",
              "          if (!dataTable) return;\n",
              "\n",
              "          const docLinkHtml = 'Like what you see? Visit the ' +\n",
              "            '<a target=\"_blank\" href=https://colab.research.google.com/notebooks/data_table.ipynb>data table notebook</a>'\n",
              "            + ' to learn more about interactive tables.';\n",
              "          element.innerHTML = '';\n",
              "          dataTable['output_type'] = 'display_data';\n",
              "          await google.colab.output.renderOutput(dataTable, element);\n",
              "          const docLink = document.createElement('div');\n",
              "          docLink.innerHTML = docLinkHtml;\n",
              "          element.appendChild(docLink);\n",
              "        }\n",
              "      </script>\n",
              "    </div>\n",
              "  </div>\n",
              "  "
            ]
          },
          "metadata": {},
          "execution_count": 18
        }
      ]
    },
    {
      "cell_type": "code",
      "source": [
        "#Let's first convert the date features to datetime.\n",
        "users[['signup_date', 'last_trip_date']] = users[['signup_date', 'last_trip_date']].apply(pd.to_datetime, errors='coerce')"
      ],
      "metadata": {
        "id": "E8khhm8ge6cq"
      },
      "execution_count": 19,
      "outputs": []
    },
    {
      "cell_type": "code",
      "source": [
        "#We'll now deal with missing data, starting with the phone feature.\n",
        "\n",
        "#First, see what OS are represented.\n",
        "users.phone.unique()\n",
        "\n",
        "#Let's recorded those missing values as 'NA' for 'Not applicable'\n",
        "users['phone'].fillna('NA', inplace=True)"
      ],
      "metadata": {
        "id": "WyoY5GakgSOT"
      },
      "execution_count": 20,
      "outputs": []
    },
    {
      "cell_type": "code",
      "source": [
        "#Let's now address avg_rating_by_driver\n",
        "\n",
        "#It makes sense to fill these missing values with the mean of the feature.\n",
        "users['avg_rating_by_driver'].fillna(users['avg_rating_by_driver'].mean(), inplace=True)"
      ],
      "metadata": {
        "id": "4Bfdn9P8i8Fm"
      },
      "execution_count": 21,
      "outputs": []
    },
    {
      "cell_type": "code",
      "source": [
        "#We are missing a bit more data for avg_rating_of_driver. Let's see what the mean looks like for this feature.\n",
        "users['avg_rating_of_driver'].mean()\n",
        "\n",
        "#This seems reasonable. Lets fill with the mean.\n",
        "users['avg_rating_of_driver'].fillna(users['avg_rating_of_driver'].mean(), inplace=True)"
      ],
      "metadata": {
        "id": "65hBp_6Xjzx2"
      },
      "execution_count": 22,
      "outputs": []
    },
    {
      "cell_type": "code",
      "source": [
        "#We'll view our changes at this point\n",
        "users.info()"
      ],
      "metadata": {
        "colab": {
          "base_uri": "https://localhost:8080/"
        },
        "id": "0J_uK0FCkRgz",
        "outputId": "ab23b35e-ae0c-4fa1-96cb-a1827da024d5"
      },
      "execution_count": 23,
      "outputs": [
        {
          "output_type": "stream",
          "name": "stdout",
          "text": [
            "<class 'pandas.core.frame.DataFrame'>\n",
            "RangeIndex: 50000 entries, 0 to 49999\n",
            "Data columns (total 12 columns):\n",
            " #   Column                  Non-Null Count  Dtype         \n",
            "---  ------                  --------------  -----         \n",
            " 0   city                    50000 non-null  object        \n",
            " 1   trips_in_first_30_days  50000 non-null  int64         \n",
            " 2   signup_date             50000 non-null  datetime64[ns]\n",
            " 3   avg_rating_of_driver    50000 non-null  float64       \n",
            " 4   avg_surge               50000 non-null  float64       \n",
            " 5   last_trip_date          50000 non-null  datetime64[ns]\n",
            " 6   phone                   50000 non-null  object        \n",
            " 7   surge_pct               50000 non-null  float64       \n",
            " 8   ultimate_black_user     50000 non-null  bool          \n",
            " 9   weekday_pct             50000 non-null  float64       \n",
            " 10  avg_dist                50000 non-null  float64       \n",
            " 11  avg_rating_by_driver    50000 non-null  float64       \n",
            "dtypes: bool(1), datetime64[ns](2), float64(6), int64(1), object(2)\n",
            "memory usage: 4.2+ MB\n"
          ]
        }
      ]
    },
    {
      "cell_type": "code",
      "source": [
        "users.head()"
      ],
      "metadata": {
        "colab": {
          "base_uri": "https://localhost:8080/",
          "height": 305
        },
        "id": "9gJl9H5NkYlH",
        "outputId": "30e9760b-3199-4e74-8387-18f1c022cc2f"
      },
      "execution_count": 24,
      "outputs": [
        {
          "output_type": "execute_result",
          "data": {
            "text/plain": [
              "             city  trips_in_first_30_days signup_date  avg_rating_of_driver  \\\n",
              "0  King's Landing                       4  2014-01-25                   4.7   \n",
              "1         Astapor                       0  2014-01-29                   5.0   \n",
              "2         Astapor                       3  2014-01-06                   4.3   \n",
              "3  King's Landing                       9  2014-01-10                   4.6   \n",
              "4      Winterfell                      14  2014-01-27                   4.4   \n",
              "\n",
              "   avg_surge last_trip_date    phone  surge_pct  ultimate_black_user  \\\n",
              "0       1.10     2014-06-17   iPhone       15.4                 True   \n",
              "1       1.00     2014-05-05  Android        0.0                False   \n",
              "2       1.00     2014-01-07   iPhone        0.0                False   \n",
              "3       1.14     2014-06-29   iPhone       20.0                 True   \n",
              "4       1.19     2014-03-15  Android       11.8                False   \n",
              "\n",
              "   weekday_pct  avg_dist  avg_rating_by_driver  \n",
              "0         46.2      3.67                   5.0  \n",
              "1         50.0      8.26                   5.0  \n",
              "2        100.0      0.77                   5.0  \n",
              "3         80.0      2.36                   4.9  \n",
              "4         82.4      3.13                   4.9  "
            ],
            "text/html": [
              "\n",
              "  <div id=\"df-d930a110-6a5d-4ab1-98a5-ada4c7ca0967\">\n",
              "    <div class=\"colab-df-container\">\n",
              "      <div>\n",
              "<style scoped>\n",
              "    .dataframe tbody tr th:only-of-type {\n",
              "        vertical-align: middle;\n",
              "    }\n",
              "\n",
              "    .dataframe tbody tr th {\n",
              "        vertical-align: top;\n",
              "    }\n",
              "\n",
              "    .dataframe thead th {\n",
              "        text-align: right;\n",
              "    }\n",
              "</style>\n",
              "<table border=\"1\" class=\"dataframe\">\n",
              "  <thead>\n",
              "    <tr style=\"text-align: right;\">\n",
              "      <th></th>\n",
              "      <th>city</th>\n",
              "      <th>trips_in_first_30_days</th>\n",
              "      <th>signup_date</th>\n",
              "      <th>avg_rating_of_driver</th>\n",
              "      <th>avg_surge</th>\n",
              "      <th>last_trip_date</th>\n",
              "      <th>phone</th>\n",
              "      <th>surge_pct</th>\n",
              "      <th>ultimate_black_user</th>\n",
              "      <th>weekday_pct</th>\n",
              "      <th>avg_dist</th>\n",
              "      <th>avg_rating_by_driver</th>\n",
              "    </tr>\n",
              "  </thead>\n",
              "  <tbody>\n",
              "    <tr>\n",
              "      <th>0</th>\n",
              "      <td>King's Landing</td>\n",
              "      <td>4</td>\n",
              "      <td>2014-01-25</td>\n",
              "      <td>4.7</td>\n",
              "      <td>1.10</td>\n",
              "      <td>2014-06-17</td>\n",
              "      <td>iPhone</td>\n",
              "      <td>15.4</td>\n",
              "      <td>True</td>\n",
              "      <td>46.2</td>\n",
              "      <td>3.67</td>\n",
              "      <td>5.0</td>\n",
              "    </tr>\n",
              "    <tr>\n",
              "      <th>1</th>\n",
              "      <td>Astapor</td>\n",
              "      <td>0</td>\n",
              "      <td>2014-01-29</td>\n",
              "      <td>5.0</td>\n",
              "      <td>1.00</td>\n",
              "      <td>2014-05-05</td>\n",
              "      <td>Android</td>\n",
              "      <td>0.0</td>\n",
              "      <td>False</td>\n",
              "      <td>50.0</td>\n",
              "      <td>8.26</td>\n",
              "      <td>5.0</td>\n",
              "    </tr>\n",
              "    <tr>\n",
              "      <th>2</th>\n",
              "      <td>Astapor</td>\n",
              "      <td>3</td>\n",
              "      <td>2014-01-06</td>\n",
              "      <td>4.3</td>\n",
              "      <td>1.00</td>\n",
              "      <td>2014-01-07</td>\n",
              "      <td>iPhone</td>\n",
              "      <td>0.0</td>\n",
              "      <td>False</td>\n",
              "      <td>100.0</td>\n",
              "      <td>0.77</td>\n",
              "      <td>5.0</td>\n",
              "    </tr>\n",
              "    <tr>\n",
              "      <th>3</th>\n",
              "      <td>King's Landing</td>\n",
              "      <td>9</td>\n",
              "      <td>2014-01-10</td>\n",
              "      <td>4.6</td>\n",
              "      <td>1.14</td>\n",
              "      <td>2014-06-29</td>\n",
              "      <td>iPhone</td>\n",
              "      <td>20.0</td>\n",
              "      <td>True</td>\n",
              "      <td>80.0</td>\n",
              "      <td>2.36</td>\n",
              "      <td>4.9</td>\n",
              "    </tr>\n",
              "    <tr>\n",
              "      <th>4</th>\n",
              "      <td>Winterfell</td>\n",
              "      <td>14</td>\n",
              "      <td>2014-01-27</td>\n",
              "      <td>4.4</td>\n",
              "      <td>1.19</td>\n",
              "      <td>2014-03-15</td>\n",
              "      <td>Android</td>\n",
              "      <td>11.8</td>\n",
              "      <td>False</td>\n",
              "      <td>82.4</td>\n",
              "      <td>3.13</td>\n",
              "      <td>4.9</td>\n",
              "    </tr>\n",
              "  </tbody>\n",
              "</table>\n",
              "</div>\n",
              "      <button class=\"colab-df-convert\" onclick=\"convertToInteractive('df-d930a110-6a5d-4ab1-98a5-ada4c7ca0967')\"\n",
              "              title=\"Convert this dataframe to an interactive table.\"\n",
              "              style=\"display:none;\">\n",
              "        \n",
              "  <svg xmlns=\"http://www.w3.org/2000/svg\" height=\"24px\"viewBox=\"0 0 24 24\"\n",
              "       width=\"24px\">\n",
              "    <path d=\"M0 0h24v24H0V0z\" fill=\"none\"/>\n",
              "    <path d=\"M18.56 5.44l.94 2.06.94-2.06 2.06-.94-2.06-.94-.94-2.06-.94 2.06-2.06.94zm-11 1L8.5 8.5l.94-2.06 2.06-.94-2.06-.94L8.5 2.5l-.94 2.06-2.06.94zm10 10l.94 2.06.94-2.06 2.06-.94-2.06-.94-.94-2.06-.94 2.06-2.06.94z\"/><path d=\"M17.41 7.96l-1.37-1.37c-.4-.4-.92-.59-1.43-.59-.52 0-1.04.2-1.43.59L10.3 9.45l-7.72 7.72c-.78.78-.78 2.05 0 2.83L4 21.41c.39.39.9.59 1.41.59.51 0 1.02-.2 1.41-.59l7.78-7.78 2.81-2.81c.8-.78.8-2.07 0-2.86zM5.41 20L4 18.59l7.72-7.72 1.47 1.35L5.41 20z\"/>\n",
              "  </svg>\n",
              "      </button>\n",
              "      \n",
              "  <style>\n",
              "    .colab-df-container {\n",
              "      display:flex;\n",
              "      flex-wrap:wrap;\n",
              "      gap: 12px;\n",
              "    }\n",
              "\n",
              "    .colab-df-convert {\n",
              "      background-color: #E8F0FE;\n",
              "      border: none;\n",
              "      border-radius: 50%;\n",
              "      cursor: pointer;\n",
              "      display: none;\n",
              "      fill: #1967D2;\n",
              "      height: 32px;\n",
              "      padding: 0 0 0 0;\n",
              "      width: 32px;\n",
              "    }\n",
              "\n",
              "    .colab-df-convert:hover {\n",
              "      background-color: #E2EBFA;\n",
              "      box-shadow: 0px 1px 2px rgba(60, 64, 67, 0.3), 0px 1px 3px 1px rgba(60, 64, 67, 0.15);\n",
              "      fill: #174EA6;\n",
              "    }\n",
              "\n",
              "    [theme=dark] .colab-df-convert {\n",
              "      background-color: #3B4455;\n",
              "      fill: #D2E3FC;\n",
              "    }\n",
              "\n",
              "    [theme=dark] .colab-df-convert:hover {\n",
              "      background-color: #434B5C;\n",
              "      box-shadow: 0px 1px 3px 1px rgba(0, 0, 0, 0.15);\n",
              "      filter: drop-shadow(0px 1px 2px rgba(0, 0, 0, 0.3));\n",
              "      fill: #FFFFFF;\n",
              "    }\n",
              "  </style>\n",
              "\n",
              "      <script>\n",
              "        const buttonEl =\n",
              "          document.querySelector('#df-d930a110-6a5d-4ab1-98a5-ada4c7ca0967 button.colab-df-convert');\n",
              "        buttonEl.style.display =\n",
              "          google.colab.kernel.accessAllowed ? 'block' : 'none';\n",
              "\n",
              "        async function convertToInteractive(key) {\n",
              "          const element = document.querySelector('#df-d930a110-6a5d-4ab1-98a5-ada4c7ca0967');\n",
              "          const dataTable =\n",
              "            await google.colab.kernel.invokeFunction('convertToInteractive',\n",
              "                                                     [key], {});\n",
              "          if (!dataTable) return;\n",
              "\n",
              "          const docLinkHtml = 'Like what you see? Visit the ' +\n",
              "            '<a target=\"_blank\" href=https://colab.research.google.com/notebooks/data_table.ipynb>data table notebook</a>'\n",
              "            + ' to learn more about interactive tables.';\n",
              "          element.innerHTML = '';\n",
              "          dataTable['output_type'] = 'display_data';\n",
              "          await google.colab.output.renderOutput(dataTable, element);\n",
              "          const docLink = document.createElement('div');\n",
              "          docLink.innerHTML = docLinkHtml;\n",
              "          element.appendChild(docLink);\n",
              "        }\n",
              "      </script>\n",
              "    </div>\n",
              "  </div>\n",
              "  "
            ]
          },
          "metadata": {},
          "execution_count": 24
        }
      ]
    },
    {
      "cell_type": "markdown",
      "source": [
        "### 2. Find Active Users"
      ],
      "metadata": {
        "id": "51P1MuuBJpYj"
      }
    },
    {
      "cell_type": "code",
      "source": [
        "#Active users are defined as having taken a trip in the last 30 days. Let's find the most recent date in the dataset.\n",
        "users['last_trip_date'].sort_values(ascending=False).head()"
      ],
      "metadata": {
        "colab": {
          "base_uri": "https://localhost:8080/"
        },
        "id": "3x62CjvoJsKJ",
        "outputId": "63737610-0495-4fc4-ba0a-a272971896de"
      },
      "execution_count": 25,
      "outputs": [
        {
          "output_type": "execute_result",
          "data": {
            "text/plain": [
              "4486    2014-07-01\n",
              "43047   2014-07-01\n",
              "24059   2014-07-01\n",
              "40290   2014-07-01\n",
              "28689   2014-07-01\n",
              "Name: last_trip_date, dtype: datetime64[ns]"
            ]
          },
          "metadata": {},
          "execution_count": 25
        }
      ]
    },
    {
      "cell_type": "code",
      "source": [
        "#The dataset ends at July 1, 2014. An active user will have taken a trip anytime on, or after June 1, 2014.\n",
        "users['active'] = users['last_trip_date'] >= '2014-06-01'"
      ],
      "metadata": {
        "id": "p7lS9pxTKNpD"
      },
      "execution_count": 26,
      "outputs": []
    },
    {
      "cell_type": "code",
      "source": [
        "#Our feature to detect an active user appears to function correctly.\n",
        "users.head()"
      ],
      "metadata": {
        "colab": {
          "base_uri": "https://localhost:8080/",
          "height": 305
        },
        "id": "xa5QtSb2Kn96",
        "outputId": "fbcd29c1-7f24-4d62-d0d6-2ac514df54ac"
      },
      "execution_count": 27,
      "outputs": [
        {
          "output_type": "execute_result",
          "data": {
            "text/plain": [
              "             city  trips_in_first_30_days signup_date  avg_rating_of_driver  \\\n",
              "0  King's Landing                       4  2014-01-25                   4.7   \n",
              "1         Astapor                       0  2014-01-29                   5.0   \n",
              "2         Astapor                       3  2014-01-06                   4.3   \n",
              "3  King's Landing                       9  2014-01-10                   4.6   \n",
              "4      Winterfell                      14  2014-01-27                   4.4   \n",
              "\n",
              "   avg_surge last_trip_date    phone  surge_pct  ultimate_black_user  \\\n",
              "0       1.10     2014-06-17   iPhone       15.4                 True   \n",
              "1       1.00     2014-05-05  Android        0.0                False   \n",
              "2       1.00     2014-01-07   iPhone        0.0                False   \n",
              "3       1.14     2014-06-29   iPhone       20.0                 True   \n",
              "4       1.19     2014-03-15  Android       11.8                False   \n",
              "\n",
              "   weekday_pct  avg_dist  avg_rating_by_driver  active  \n",
              "0         46.2      3.67                   5.0    True  \n",
              "1         50.0      8.26                   5.0   False  \n",
              "2        100.0      0.77                   5.0   False  \n",
              "3         80.0      2.36                   4.9    True  \n",
              "4         82.4      3.13                   4.9   False  "
            ],
            "text/html": [
              "\n",
              "  <div id=\"df-f97e5976-fd6f-4702-b3a1-fbbf8dd0da42\">\n",
              "    <div class=\"colab-df-container\">\n",
              "      <div>\n",
              "<style scoped>\n",
              "    .dataframe tbody tr th:only-of-type {\n",
              "        vertical-align: middle;\n",
              "    }\n",
              "\n",
              "    .dataframe tbody tr th {\n",
              "        vertical-align: top;\n",
              "    }\n",
              "\n",
              "    .dataframe thead th {\n",
              "        text-align: right;\n",
              "    }\n",
              "</style>\n",
              "<table border=\"1\" class=\"dataframe\">\n",
              "  <thead>\n",
              "    <tr style=\"text-align: right;\">\n",
              "      <th></th>\n",
              "      <th>city</th>\n",
              "      <th>trips_in_first_30_days</th>\n",
              "      <th>signup_date</th>\n",
              "      <th>avg_rating_of_driver</th>\n",
              "      <th>avg_surge</th>\n",
              "      <th>last_trip_date</th>\n",
              "      <th>phone</th>\n",
              "      <th>surge_pct</th>\n",
              "      <th>ultimate_black_user</th>\n",
              "      <th>weekday_pct</th>\n",
              "      <th>avg_dist</th>\n",
              "      <th>avg_rating_by_driver</th>\n",
              "      <th>active</th>\n",
              "    </tr>\n",
              "  </thead>\n",
              "  <tbody>\n",
              "    <tr>\n",
              "      <th>0</th>\n",
              "      <td>King's Landing</td>\n",
              "      <td>4</td>\n",
              "      <td>2014-01-25</td>\n",
              "      <td>4.7</td>\n",
              "      <td>1.10</td>\n",
              "      <td>2014-06-17</td>\n",
              "      <td>iPhone</td>\n",
              "      <td>15.4</td>\n",
              "      <td>True</td>\n",
              "      <td>46.2</td>\n",
              "      <td>3.67</td>\n",
              "      <td>5.0</td>\n",
              "      <td>True</td>\n",
              "    </tr>\n",
              "    <tr>\n",
              "      <th>1</th>\n",
              "      <td>Astapor</td>\n",
              "      <td>0</td>\n",
              "      <td>2014-01-29</td>\n",
              "      <td>5.0</td>\n",
              "      <td>1.00</td>\n",
              "      <td>2014-05-05</td>\n",
              "      <td>Android</td>\n",
              "      <td>0.0</td>\n",
              "      <td>False</td>\n",
              "      <td>50.0</td>\n",
              "      <td>8.26</td>\n",
              "      <td>5.0</td>\n",
              "      <td>False</td>\n",
              "    </tr>\n",
              "    <tr>\n",
              "      <th>2</th>\n",
              "      <td>Astapor</td>\n",
              "      <td>3</td>\n",
              "      <td>2014-01-06</td>\n",
              "      <td>4.3</td>\n",
              "      <td>1.00</td>\n",
              "      <td>2014-01-07</td>\n",
              "      <td>iPhone</td>\n",
              "      <td>0.0</td>\n",
              "      <td>False</td>\n",
              "      <td>100.0</td>\n",
              "      <td>0.77</td>\n",
              "      <td>5.0</td>\n",
              "      <td>False</td>\n",
              "    </tr>\n",
              "    <tr>\n",
              "      <th>3</th>\n",
              "      <td>King's Landing</td>\n",
              "      <td>9</td>\n",
              "      <td>2014-01-10</td>\n",
              "      <td>4.6</td>\n",
              "      <td>1.14</td>\n",
              "      <td>2014-06-29</td>\n",
              "      <td>iPhone</td>\n",
              "      <td>20.0</td>\n",
              "      <td>True</td>\n",
              "      <td>80.0</td>\n",
              "      <td>2.36</td>\n",
              "      <td>4.9</td>\n",
              "      <td>True</td>\n",
              "    </tr>\n",
              "    <tr>\n",
              "      <th>4</th>\n",
              "      <td>Winterfell</td>\n",
              "      <td>14</td>\n",
              "      <td>2014-01-27</td>\n",
              "      <td>4.4</td>\n",
              "      <td>1.19</td>\n",
              "      <td>2014-03-15</td>\n",
              "      <td>Android</td>\n",
              "      <td>11.8</td>\n",
              "      <td>False</td>\n",
              "      <td>82.4</td>\n",
              "      <td>3.13</td>\n",
              "      <td>4.9</td>\n",
              "      <td>False</td>\n",
              "    </tr>\n",
              "  </tbody>\n",
              "</table>\n",
              "</div>\n",
              "      <button class=\"colab-df-convert\" onclick=\"convertToInteractive('df-f97e5976-fd6f-4702-b3a1-fbbf8dd0da42')\"\n",
              "              title=\"Convert this dataframe to an interactive table.\"\n",
              "              style=\"display:none;\">\n",
              "        \n",
              "  <svg xmlns=\"http://www.w3.org/2000/svg\" height=\"24px\"viewBox=\"0 0 24 24\"\n",
              "       width=\"24px\">\n",
              "    <path d=\"M0 0h24v24H0V0z\" fill=\"none\"/>\n",
              "    <path d=\"M18.56 5.44l.94 2.06.94-2.06 2.06-.94-2.06-.94-.94-2.06-.94 2.06-2.06.94zm-11 1L8.5 8.5l.94-2.06 2.06-.94-2.06-.94L8.5 2.5l-.94 2.06-2.06.94zm10 10l.94 2.06.94-2.06 2.06-.94-2.06-.94-.94-2.06-.94 2.06-2.06.94z\"/><path d=\"M17.41 7.96l-1.37-1.37c-.4-.4-.92-.59-1.43-.59-.52 0-1.04.2-1.43.59L10.3 9.45l-7.72 7.72c-.78.78-.78 2.05 0 2.83L4 21.41c.39.39.9.59 1.41.59.51 0 1.02-.2 1.41-.59l7.78-7.78 2.81-2.81c.8-.78.8-2.07 0-2.86zM5.41 20L4 18.59l7.72-7.72 1.47 1.35L5.41 20z\"/>\n",
              "  </svg>\n",
              "      </button>\n",
              "      \n",
              "  <style>\n",
              "    .colab-df-container {\n",
              "      display:flex;\n",
              "      flex-wrap:wrap;\n",
              "      gap: 12px;\n",
              "    }\n",
              "\n",
              "    .colab-df-convert {\n",
              "      background-color: #E8F0FE;\n",
              "      border: none;\n",
              "      border-radius: 50%;\n",
              "      cursor: pointer;\n",
              "      display: none;\n",
              "      fill: #1967D2;\n",
              "      height: 32px;\n",
              "      padding: 0 0 0 0;\n",
              "      width: 32px;\n",
              "    }\n",
              "\n",
              "    .colab-df-convert:hover {\n",
              "      background-color: #E2EBFA;\n",
              "      box-shadow: 0px 1px 2px rgba(60, 64, 67, 0.3), 0px 1px 3px 1px rgba(60, 64, 67, 0.15);\n",
              "      fill: #174EA6;\n",
              "    }\n",
              "\n",
              "    [theme=dark] .colab-df-convert {\n",
              "      background-color: #3B4455;\n",
              "      fill: #D2E3FC;\n",
              "    }\n",
              "\n",
              "    [theme=dark] .colab-df-convert:hover {\n",
              "      background-color: #434B5C;\n",
              "      box-shadow: 0px 1px 3px 1px rgba(0, 0, 0, 0.15);\n",
              "      filter: drop-shadow(0px 1px 2px rgba(0, 0, 0, 0.3));\n",
              "      fill: #FFFFFF;\n",
              "    }\n",
              "  </style>\n",
              "\n",
              "      <script>\n",
              "        const buttonEl =\n",
              "          document.querySelector('#df-f97e5976-fd6f-4702-b3a1-fbbf8dd0da42 button.colab-df-convert');\n",
              "        buttonEl.style.display =\n",
              "          google.colab.kernel.accessAllowed ? 'block' : 'none';\n",
              "\n",
              "        async function convertToInteractive(key) {\n",
              "          const element = document.querySelector('#df-f97e5976-fd6f-4702-b3a1-fbbf8dd0da42');\n",
              "          const dataTable =\n",
              "            await google.colab.kernel.invokeFunction('convertToInteractive',\n",
              "                                                     [key], {});\n",
              "          if (!dataTable) return;\n",
              "\n",
              "          const docLinkHtml = 'Like what you see? Visit the ' +\n",
              "            '<a target=\"_blank\" href=https://colab.research.google.com/notebooks/data_table.ipynb>data table notebook</a>'\n",
              "            + ' to learn more about interactive tables.';\n",
              "          element.innerHTML = '';\n",
              "          dataTable['output_type'] = 'display_data';\n",
              "          await google.colab.output.renderOutput(dataTable, element);\n",
              "          const docLink = document.createElement('div');\n",
              "          docLink.innerHTML = docLinkHtml;\n",
              "          element.appendChild(docLink);\n",
              "        }\n",
              "      </script>\n",
              "    </div>\n",
              "  </div>\n",
              "  "
            ]
          },
          "metadata": {},
          "execution_count": 27
        }
      ]
    },
    {
      "cell_type": "code",
      "source": [
        "#37.6% of users are considered active. 62.4% of users are considered inactive.\n",
        "value_counts = users['active'].value_counts()\n",
        "print(value_counts/users['active'].count() * 100)"
      ],
      "metadata": {
        "colab": {
          "base_uri": "https://localhost:8080/"
        },
        "id": "9NYtAXLtLHK-",
        "outputId": "9af00a1f-3a68-4da2-8312-2057fc25adff"
      },
      "execution_count": 28,
      "outputs": [
        {
          "output_type": "stream",
          "name": "stdout",
          "text": [
            "False    62.392\n",
            "True     37.608\n",
            "Name: active, dtype: float64\n"
          ]
        }
      ]
    },
    {
      "cell_type": "code",
      "source": [
        "#Let's rename the columns to make the dataframe cleaner.\n",
        "users.columns = ['city', 'trips_first_month', 'signup', 'driver_rating', 'avg_surge', 'last_trip', 'phone', 'surge_pct', 'black_user', 'weekday_pct', 'avg_dist', 'user_rating', 'active']\n"
      ],
      "metadata": {
        "id": "xeFAy2WrOtL0"
      },
      "execution_count": 29,
      "outputs": []
    },
    {
      "cell_type": "code",
      "source": [
        "#The dataframe looks tidy and organized. Let's perform some EDA.\n",
        "users.head()"
      ],
      "metadata": {
        "colab": {
          "base_uri": "https://localhost:8080/",
          "height": 357
        },
        "id": "JVvKvV0iUoxT",
        "outputId": "9a23f970-7f84-4a8e-e562-efb6213b2a37"
      },
      "execution_count": 30,
      "outputs": [
        {
          "output_type": "execute_result",
          "data": {
            "text/plain": [
              "             city  trips_first_month     signup  driver_rating  avg_surge  \\\n",
              "0  King's Landing                  4 2014-01-25            4.7       1.10   \n",
              "1         Astapor                  0 2014-01-29            5.0       1.00   \n",
              "2         Astapor                  3 2014-01-06            4.3       1.00   \n",
              "3  King's Landing                  9 2014-01-10            4.6       1.14   \n",
              "4      Winterfell                 14 2014-01-27            4.4       1.19   \n",
              "\n",
              "   last_trip    phone  surge_pct  black_user  weekday_pct  avg_dist  \\\n",
              "0 2014-06-17   iPhone       15.4        True         46.2      3.67   \n",
              "1 2014-05-05  Android        0.0       False         50.0      8.26   \n",
              "2 2014-01-07   iPhone        0.0       False        100.0      0.77   \n",
              "3 2014-06-29   iPhone       20.0        True         80.0      2.36   \n",
              "4 2014-03-15  Android       11.8       False         82.4      3.13   \n",
              "\n",
              "   user_rating  active  \n",
              "0          5.0    True  \n",
              "1          5.0   False  \n",
              "2          5.0   False  \n",
              "3          4.9    True  \n",
              "4          4.9   False  "
            ],
            "text/html": [
              "\n",
              "  <div id=\"df-16c7319f-df45-4a13-bb56-38179b002852\">\n",
              "    <div class=\"colab-df-container\">\n",
              "      <div>\n",
              "<style scoped>\n",
              "    .dataframe tbody tr th:only-of-type {\n",
              "        vertical-align: middle;\n",
              "    }\n",
              "\n",
              "    .dataframe tbody tr th {\n",
              "        vertical-align: top;\n",
              "    }\n",
              "\n",
              "    .dataframe thead th {\n",
              "        text-align: right;\n",
              "    }\n",
              "</style>\n",
              "<table border=\"1\" class=\"dataframe\">\n",
              "  <thead>\n",
              "    <tr style=\"text-align: right;\">\n",
              "      <th></th>\n",
              "      <th>city</th>\n",
              "      <th>trips_first_month</th>\n",
              "      <th>signup</th>\n",
              "      <th>driver_rating</th>\n",
              "      <th>avg_surge</th>\n",
              "      <th>last_trip</th>\n",
              "      <th>phone</th>\n",
              "      <th>surge_pct</th>\n",
              "      <th>black_user</th>\n",
              "      <th>weekday_pct</th>\n",
              "      <th>avg_dist</th>\n",
              "      <th>user_rating</th>\n",
              "      <th>active</th>\n",
              "    </tr>\n",
              "  </thead>\n",
              "  <tbody>\n",
              "    <tr>\n",
              "      <th>0</th>\n",
              "      <td>King's Landing</td>\n",
              "      <td>4</td>\n",
              "      <td>2014-01-25</td>\n",
              "      <td>4.7</td>\n",
              "      <td>1.10</td>\n",
              "      <td>2014-06-17</td>\n",
              "      <td>iPhone</td>\n",
              "      <td>15.4</td>\n",
              "      <td>True</td>\n",
              "      <td>46.2</td>\n",
              "      <td>3.67</td>\n",
              "      <td>5.0</td>\n",
              "      <td>True</td>\n",
              "    </tr>\n",
              "    <tr>\n",
              "      <th>1</th>\n",
              "      <td>Astapor</td>\n",
              "      <td>0</td>\n",
              "      <td>2014-01-29</td>\n",
              "      <td>5.0</td>\n",
              "      <td>1.00</td>\n",
              "      <td>2014-05-05</td>\n",
              "      <td>Android</td>\n",
              "      <td>0.0</td>\n",
              "      <td>False</td>\n",
              "      <td>50.0</td>\n",
              "      <td>8.26</td>\n",
              "      <td>5.0</td>\n",
              "      <td>False</td>\n",
              "    </tr>\n",
              "    <tr>\n",
              "      <th>2</th>\n",
              "      <td>Astapor</td>\n",
              "      <td>3</td>\n",
              "      <td>2014-01-06</td>\n",
              "      <td>4.3</td>\n",
              "      <td>1.00</td>\n",
              "      <td>2014-01-07</td>\n",
              "      <td>iPhone</td>\n",
              "      <td>0.0</td>\n",
              "      <td>False</td>\n",
              "      <td>100.0</td>\n",
              "      <td>0.77</td>\n",
              "      <td>5.0</td>\n",
              "      <td>False</td>\n",
              "    </tr>\n",
              "    <tr>\n",
              "      <th>3</th>\n",
              "      <td>King's Landing</td>\n",
              "      <td>9</td>\n",
              "      <td>2014-01-10</td>\n",
              "      <td>4.6</td>\n",
              "      <td>1.14</td>\n",
              "      <td>2014-06-29</td>\n",
              "      <td>iPhone</td>\n",
              "      <td>20.0</td>\n",
              "      <td>True</td>\n",
              "      <td>80.0</td>\n",
              "      <td>2.36</td>\n",
              "      <td>4.9</td>\n",
              "      <td>True</td>\n",
              "    </tr>\n",
              "    <tr>\n",
              "      <th>4</th>\n",
              "      <td>Winterfell</td>\n",
              "      <td>14</td>\n",
              "      <td>2014-01-27</td>\n",
              "      <td>4.4</td>\n",
              "      <td>1.19</td>\n",
              "      <td>2014-03-15</td>\n",
              "      <td>Android</td>\n",
              "      <td>11.8</td>\n",
              "      <td>False</td>\n",
              "      <td>82.4</td>\n",
              "      <td>3.13</td>\n",
              "      <td>4.9</td>\n",
              "      <td>False</td>\n",
              "    </tr>\n",
              "  </tbody>\n",
              "</table>\n",
              "</div>\n",
              "      <button class=\"colab-df-convert\" onclick=\"convertToInteractive('df-16c7319f-df45-4a13-bb56-38179b002852')\"\n",
              "              title=\"Convert this dataframe to an interactive table.\"\n",
              "              style=\"display:none;\">\n",
              "        \n",
              "  <svg xmlns=\"http://www.w3.org/2000/svg\" height=\"24px\"viewBox=\"0 0 24 24\"\n",
              "       width=\"24px\">\n",
              "    <path d=\"M0 0h24v24H0V0z\" fill=\"none\"/>\n",
              "    <path d=\"M18.56 5.44l.94 2.06.94-2.06 2.06-.94-2.06-.94-.94-2.06-.94 2.06-2.06.94zm-11 1L8.5 8.5l.94-2.06 2.06-.94-2.06-.94L8.5 2.5l-.94 2.06-2.06.94zm10 10l.94 2.06.94-2.06 2.06-.94-2.06-.94-.94-2.06-.94 2.06-2.06.94z\"/><path d=\"M17.41 7.96l-1.37-1.37c-.4-.4-.92-.59-1.43-.59-.52 0-1.04.2-1.43.59L10.3 9.45l-7.72 7.72c-.78.78-.78 2.05 0 2.83L4 21.41c.39.39.9.59 1.41.59.51 0 1.02-.2 1.41-.59l7.78-7.78 2.81-2.81c.8-.78.8-2.07 0-2.86zM5.41 20L4 18.59l7.72-7.72 1.47 1.35L5.41 20z\"/>\n",
              "  </svg>\n",
              "      </button>\n",
              "      \n",
              "  <style>\n",
              "    .colab-df-container {\n",
              "      display:flex;\n",
              "      flex-wrap:wrap;\n",
              "      gap: 12px;\n",
              "    }\n",
              "\n",
              "    .colab-df-convert {\n",
              "      background-color: #E8F0FE;\n",
              "      border: none;\n",
              "      border-radius: 50%;\n",
              "      cursor: pointer;\n",
              "      display: none;\n",
              "      fill: #1967D2;\n",
              "      height: 32px;\n",
              "      padding: 0 0 0 0;\n",
              "      width: 32px;\n",
              "    }\n",
              "\n",
              "    .colab-df-convert:hover {\n",
              "      background-color: #E2EBFA;\n",
              "      box-shadow: 0px 1px 2px rgba(60, 64, 67, 0.3), 0px 1px 3px 1px rgba(60, 64, 67, 0.15);\n",
              "      fill: #174EA6;\n",
              "    }\n",
              "\n",
              "    [theme=dark] .colab-df-convert {\n",
              "      background-color: #3B4455;\n",
              "      fill: #D2E3FC;\n",
              "    }\n",
              "\n",
              "    [theme=dark] .colab-df-convert:hover {\n",
              "      background-color: #434B5C;\n",
              "      box-shadow: 0px 1px 3px 1px rgba(0, 0, 0, 0.15);\n",
              "      filter: drop-shadow(0px 1px 2px rgba(0, 0, 0, 0.3));\n",
              "      fill: #FFFFFF;\n",
              "    }\n",
              "  </style>\n",
              "\n",
              "      <script>\n",
              "        const buttonEl =\n",
              "          document.querySelector('#df-16c7319f-df45-4a13-bb56-38179b002852 button.colab-df-convert');\n",
              "        buttonEl.style.display =\n",
              "          google.colab.kernel.accessAllowed ? 'block' : 'none';\n",
              "\n",
              "        async function convertToInteractive(key) {\n",
              "          const element = document.querySelector('#df-16c7319f-df45-4a13-bb56-38179b002852');\n",
              "          const dataTable =\n",
              "            await google.colab.kernel.invokeFunction('convertToInteractive',\n",
              "                                                     [key], {});\n",
              "          if (!dataTable) return;\n",
              "\n",
              "          const docLinkHtml = 'Like what you see? Visit the ' +\n",
              "            '<a target=\"_blank\" href=https://colab.research.google.com/notebooks/data_table.ipynb>data table notebook</a>'\n",
              "            + ' to learn more about interactive tables.';\n",
              "          element.innerHTML = '';\n",
              "          dataTable['output_type'] = 'display_data';\n",
              "          await google.colab.output.renderOutput(dataTable, element);\n",
              "          const docLink = document.createElement('div');\n",
              "          docLink.innerHTML = docLinkHtml;\n",
              "          element.appendChild(docLink);\n",
              "        }\n",
              "      </script>\n",
              "    </div>\n",
              "  </div>\n",
              "  "
            ]
          },
          "metadata": {},
          "execution_count": 30
        }
      ]
    },
    {
      "cell_type": "markdown",
      "source": [
        "### 3. Exploratory Data Analysis"
      ],
      "metadata": {
        "id": "1xorZ3KVVuZF"
      }
    },
    {
      "cell_type": "code",
      "source": [
        "#Let's first visualize our active vs inactive users.\n",
        "_ = sns.set\n",
        "_ = plt.figure(figsize=(12,6))\n",
        "_ = plt.pie(users['active'].value_counts(), labels=['Inactive', 'Active'], autopct='%1.1f%%')\n",
        "_ = plt.title('Active vs Inactive Users', size='large')\n",
        "_ = plt.show"
      ],
      "metadata": {
        "colab": {
          "base_uri": "https://localhost:8080/",
          "height": 374
        },
        "id": "40lVVxsvXu6U",
        "outputId": "9d4300cc-cbd2-4ad9-abe1-d80b2e55956a"
      },
      "execution_count": 31,
      "outputs": [
        {
          "output_type": "display_data",
          "data": {
            "text/plain": [
              "<Figure size 864x432 with 1 Axes>"
            ],
            "image/png": "[encoded data removed]"
          },
          "metadata": {}
        }
      ]
    },
    {
      "cell_type": "code",
      "source": [
        "#We'll also see if a user was identified as a Black user.\n",
        "_ = sns.set\n",
        "_ = plt.figure(figsize=(12,6))\n",
        "_ = plt.pie(users['black_user'].value_counts(), labels=['No', 'Yes'], autopct='%1.1f%%')\n",
        "_ = plt.title('Are They an Ultimate Black User?', size='large')\n",
        "_ = plt.show"
      ],
      "metadata": {
        "colab": {
          "base_uri": "https://localhost:8080/",
          "height": 374
        },
        "id": "OzFfA9n9YRJ0",
        "outputId": "6530f18d-e358-4d28-bfd9-350d7305aca7"
      },
      "execution_count": 32,
      "outputs": [
        {
          "output_type": "display_data",
          "data": {
            "text/plain": [
              "<Figure size 864x432 with 1 Axes>"
            ],
            "image/png": "[encoded data removed]"
          },
          "metadata": {}
        }
      ]
    },
    {
      "cell_type": "markdown",
      "source": [
        "Interestingly, the percentage of Black users mirrors the percentage of active users."
      ],
      "metadata": {
        "id": "6MQWD3uH6DY5"
      }
    },
    {
      "cell_type": "code",
      "source": [
        "#What if they were a black user in their first 30 days?\n",
        "_ = sns.set()\n",
        "_ = plt.figure(figsize=(12,6))\n",
        "_ = sns.catplot(x='active', y='trips_first_month', data=users, hue='black_user', kind='bar')\n",
        "_ = plt.title('Trips in First 30 Days', size='large')\n",
        "_ = plt.xlabel('Active User?', size='large')\n",
        "_ = plt.ylabel('Number of Trips', size='large')"
      ],
      "metadata": {
        "colab": {
          "base_uri": "https://localhost:8080/",
          "height": 400
        },
        "id": "y7nyUvmIYG0j",
        "outputId": "d0a723c0-eb21-45fd-f60c-2a9485fe748a"
      },
      "execution_count": 33,
      "outputs": [
        {
          "output_type": "display_data",
          "data": {
            "text/plain": [
              "<Figure size 864x432 with 0 Axes>"
            ]
          },
          "metadata": {}
        },
        {
          "output_type": "display_data",
          "data": {
            "text/plain": [
              "<Figure size 433.175x360 with 1 Axes>"
            ],
            "image/png": "[encoded data removed]"
          },
          "metadata": {}
        }
      ]
    },
    {
      "cell_type": "markdown",
      "source": [
        "Active users took more trips in their first 30 days than inactive users, and Black users took more trips than regular users."
      ],
      "metadata": {
        "id": "mtpsVmya6Pll"
      }
    },
    {
      "cell_type": "code",
      "source": [
        "_ = sns.set()\n",
        "_ = plt.figure(figsize=(12,6))\n",
        "_ = sns.catplot(x='active', y='surge_pct', data=users, hue='black_user', kind='bar')\n",
        "_ = plt.title('Surge Percentage of Active vs Inactive Users', size='large')\n",
        "_ = plt.xlabel('Active User?', size='large')\n",
        "_ = plt.ylabel('Surge Percentage', size='large')"
      ],
      "metadata": {
        "colab": {
          "base_uri": "https://localhost:8080/",
          "height": 400
        },
        "id": "oekqBb8i2eDP",
        "outputId": "cf4caf3e-697d-4844-cc40-c439a6584a62"
      },
      "execution_count": 34,
      "outputs": [
        {
          "output_type": "display_data",
          "data": {
            "text/plain": [
              "<Figure size 864x432 with 0 Axes>"
            ]
          },
          "metadata": {}
        },
        {
          "output_type": "display_data",
          "data": {
            "text/plain": [
              "<Figure size 433.175x360 with 1 Axes>"
            ],
            "image/png": "[encoded data removed]"
          },
          "metadata": {}
        }
      ]
    },
    {
      "cell_type": "markdown",
      "source": [
        "Black users were less likely to take trips with surge pricing, particularly among inactive users. It seems like, more so than being a Black user, being an active user results in vastly different rider behavior. Let's explore that further."
      ],
      "metadata": {
        "id": "2wNsNvrW6vQs"
      }
    },
    {
      "cell_type": "code",
      "source": [
        "_ = sns.set()\n",
        "_ = plt.figure(figsize=(12,6))\n",
        "_ = sns.catplot(x='active', y='avg_surge', data=users, hue='black_user', kind='bar')\n",
        "_ = plt.title('Average Surge Charge of Active vs Inactive Users', size='large')\n",
        "_ = plt.xlabel('Active User?', size='large')\n",
        "_ = plt.ylabel('Average Surge', size='large')"
      ],
      "metadata": {
        "colab": {
          "base_uri": "https://localhost:8080/",
          "height": 400
        },
        "id": "LwWNkQ2t9dzF",
        "outputId": "9a3539ac-308a-4ae1-88f2-b60d0cc47646"
      },
      "execution_count": 35,
      "outputs": [
        {
          "output_type": "display_data",
          "data": {
            "text/plain": [
              "<Figure size 864x432 with 0 Axes>"
            ]
          },
          "metadata": {}
        },
        {
          "output_type": "display_data",
          "data": {
            "text/plain": [
              "<Figure size 433.175x360 with 1 Axes>"
            ],
            "image/png": "[encoded data removed]"
          },
          "metadata": {}
        }
      ]
    },
    {
      "cell_type": "markdown",
      "source": [
        "Interesting. The average surge between active and inactive users, whether black users or not, is roughly the same. The average surge charge does not differ much, but we've discovered the propensity to request and take a trip with a surge charge seems to be a distinguishing factor."
      ],
      "metadata": {
        "id": "-4a-weEa9skk"
      }
    },
    {
      "cell_type": "code",
      "source": [
        "#Let see trip distance split between active and inactive users, colored by city.\n",
        "_ = sns.set()\n",
        "_ = plt.figure(figsize=(12,6))\n",
        "_ = sns.catplot(x='active', y='avg_dist', data=users, hue='city', kind='bar')\n",
        "_ = plt.title('Trip Distances', size='large')\n",
        "_ = plt.xlabel('Active User?', size='large')\n",
        "_ = plt.ylabel('Trip Distance', size='large')"
      ],
      "metadata": {
        "colab": {
          "base_uri": "https://localhost:8080/",
          "height": 400
        },
        "id": "tyrRUTJOVw-E",
        "outputId": "23b73cf7-d79a-4012-cf86-83b03266aa45"
      },
      "execution_count": 36,
      "outputs": [
        {
          "output_type": "display_data",
          "data": {
            "text/plain": [
              "<Figure size 864x432 with 0 Axes>"
            ]
          },
          "metadata": {}
        },
        {
          "output_type": "display_data",
          "data": {
            "text/plain": [
              "<Figure size 480.1x360 with 1 Axes>"
            ],
            "image/png": "[encoded data removed]"
          },
          "metadata": {}
        }
      ]
    },
    {
      "cell_type": "markdown",
      "source": [
        "Across all cities, active users took shorter trips on average."
      ],
      "metadata": {
        "id": "TV8E9VJ78zRd"
      }
    },
    {
      "cell_type": "markdown",
      "source": [
        "### 4. Data Preprocessing"
      ],
      "metadata": {
        "id": "JX127f72-WWu"
      }
    },
    {
      "cell_type": "code",
      "source": [
        "#Let's give our dataframe another look.\n",
        "users.head()"
      ],
      "metadata": {
        "colab": {
          "base_uri": "https://localhost:8080/",
          "height": 357
        },
        "id": "cZMmVFvlLtTP",
        "outputId": "b4acef6f-932f-433f-9877-b3d92ee4628c"
      },
      "execution_count": 37,
      "outputs": [
        {
          "output_type": "execute_result",
          "data": {
            "text/plain": [
              "             city  trips_first_month     signup  driver_rating  avg_surge  \\\n",
              "0  King's Landing                  4 2014-01-25            4.7       1.10   \n",
              "1         Astapor                  0 2014-01-29            5.0       1.00   \n",
              "2         Astapor                  3 2014-01-06            4.3       1.00   \n",
              "3  King's Landing                  9 2014-01-10            4.6       1.14   \n",
              "4      Winterfell                 14 2014-01-27            4.4       1.19   \n",
              "\n",
              "   last_trip    phone  surge_pct  black_user  weekday_pct  avg_dist  \\\n",
              "0 2014-06-17   iPhone       15.4        True         46.2      3.67   \n",
              "1 2014-05-05  Android        0.0       False         50.0      8.26   \n",
              "2 2014-01-07   iPhone        0.0       False        100.0      0.77   \n",
              "3 2014-06-29   iPhone       20.0        True         80.0      2.36   \n",
              "4 2014-03-15  Android       11.8       False         82.4      3.13   \n",
              "\n",
              "   user_rating  active  \n",
              "0          5.0    True  \n",
              "1          5.0   False  \n",
              "2          5.0   False  \n",
              "3          4.9    True  \n",
              "4          4.9   False  "
            ],
            "text/html": [
              "\n",
              "  <div id=\"df-1c471a5e-5962-4cda-b2c9-36c9641de3ed\">\n",
              "    <div class=\"colab-df-container\">\n",
              "      <div>\n",
              "<style scoped>\n",
              "    .dataframe tbody tr th:only-of-type {\n",
              "        vertical-align: middle;\n",
              "    }\n",
              "\n",
              "    .dataframe tbody tr th {\n",
              "        vertical-align: top;\n",
              "    }\n",
              "\n",
              "    .dataframe thead th {\n",
              "        text-align: right;\n",
              "    }\n",
              "</style>\n",
              "<table border=\"1\" class=\"dataframe\">\n",
              "  <thead>\n",
              "    <tr style=\"text-align: right;\">\n",
              "      <th></th>\n",
              "      <th>city</th>\n",
              "      <th>trips_first_month</th>\n",
              "      <th>signup</th>\n",
              "      <th>driver_rating</th>\n",
              "      <th>avg_surge</th>\n",
              "      <th>last_trip</th>\n",
              "      <th>phone</th>\n",
              "      <th>surge_pct</th>\n",
              "      <th>black_user</th>\n",
              "      <th>weekday_pct</th>\n",
              "      <th>avg_dist</th>\n",
              "      <th>user_rating</th>\n",
              "      <th>active</th>\n",
              "    </tr>\n",
              "  </thead>\n",
              "  <tbody>\n",
              "    <tr>\n",
              "      <th>0</th>\n",
              "      <td>King's Landing</td>\n",
              "      <td>4</td>\n",
              "      <td>2014-01-25</td>\n",
              "      <td>4.7</td>\n",
              "      <td>1.10</td>\n",
              "      <td>2014-06-17</td>\n",
              "      <td>iPhone</td>\n",
              "      <td>15.4</td>\n",
              "      <td>True</td>\n",
              "      <td>46.2</td>\n",
              "      <td>3.67</td>\n",
              "      <td>5.0</td>\n",
              "      <td>True</td>\n",
              "    </tr>\n",
              "    <tr>\n",
              "      <th>1</th>\n",
              "      <td>Astapor</td>\n",
              "      <td>0</td>\n",
              "      <td>2014-01-29</td>\n",
              "      <td>5.0</td>\n",
              "      <td>1.00</td>\n",
              "      <td>2014-05-05</td>\n",
              "      <td>Android</td>\n",
              "      <td>0.0</td>\n",
              "      <td>False</td>\n",
              "      <td>50.0</td>\n",
              "      <td>8.26</td>\n",
              "      <td>5.0</td>\n",
              "      <td>False</td>\n",
              "    </tr>\n",
              "    <tr>\n",
              "      <th>2</th>\n",
              "      <td>Astapor</td>\n",
              "      <td>3</td>\n",
              "      <td>2014-01-06</td>\n",
              "      <td>4.3</td>\n",
              "      <td>1.00</td>\n",
              "      <td>2014-01-07</td>\n",
              "      <td>iPhone</td>\n",
              "      <td>0.0</td>\n",
              "      <td>False</td>\n",
              "      <td>100.0</td>\n",
              "      <td>0.77</td>\n",
              "      <td>5.0</td>\n",
              "      <td>False</td>\n",
              "    </tr>\n",
              "    <tr>\n",
              "      <th>3</th>\n",
              "      <td>King's Landing</td>\n",
              "      <td>9</td>\n",
              "      <td>2014-01-10</td>\n",
              "      <td>4.6</td>\n",
              "      <td>1.14</td>\n",
              "      <td>2014-06-29</td>\n",
              "      <td>iPhone</td>\n",
              "      <td>20.0</td>\n",
              "      <td>True</td>\n",
              "      <td>80.0</td>\n",
              "      <td>2.36</td>\n",
              "      <td>4.9</td>\n",
              "      <td>True</td>\n",
              "    </tr>\n",
              "    <tr>\n",
              "      <th>4</th>\n",
              "      <td>Winterfell</td>\n",
              "      <td>14</td>\n",
              "      <td>2014-01-27</td>\n",
              "      <td>4.4</td>\n",
              "      <td>1.19</td>\n",
              "      <td>2014-03-15</td>\n",
              "      <td>Android</td>\n",
              "      <td>11.8</td>\n",
              "      <td>False</td>\n",
              "      <td>82.4</td>\n",
              "      <td>3.13</td>\n",
              "      <td>4.9</td>\n",
              "      <td>False</td>\n",
              "    </tr>\n",
              "  </tbody>\n",
              "</table>\n",
              "</div>\n",
              "      <button class=\"colab-df-convert\" onclick=\"convertToInteractive('df-1c471a5e-5962-4cda-b2c9-36c9641de3ed')\"\n",
              "              title=\"Convert this dataframe to an interactive table.\"\n",
              "              style=\"display:none;\">\n",
              "        \n",
              "  <svg xmlns=\"http://www.w3.org/2000/svg\" height=\"24px\"viewBox=\"0 0 24 24\"\n",
              "       width=\"24px\">\n",
              "    <path d=\"M0 0h24v24H0V0z\" fill=\"none\"/>\n",
              "    <path d=\"M18.56 5.44l.94 2.06.94-2.06 2.06-.94-2.06-.94-.94-2.06-.94 2.06-2.06.94zm-11 1L8.5 8.5l.94-2.06 2.06-.94-2.06-.94L8.5 2.5l-.94 2.06-2.06.94zm10 10l.94 2.06.94-2.06 2.06-.94-2.06-.94-.94-2.06-.94 2.06-2.06.94z\"/><path d=\"M17.41 7.96l-1.37-1.37c-.4-.4-.92-.59-1.43-.59-.52 0-1.04.2-1.43.59L10.3 9.45l-7.72 7.72c-.78.78-.78 2.05 0 2.83L4 21.41c.39.39.9.59 1.41.59.51 0 1.02-.2 1.41-.59l7.78-7.78 2.81-2.81c.8-.78.8-2.07 0-2.86zM5.41 20L4 18.59l7.72-7.72 1.47 1.35L5.41 20z\"/>\n",
              "  </svg>\n",
              "      </button>\n",
              "      \n",
              "  <style>\n",
              "    .colab-df-container {\n",
              "      display:flex;\n",
              "      flex-wrap:wrap;\n",
              "      gap: 12px;\n",
              "    }\n",
              "\n",
              "    .colab-df-convert {\n",
              "      background-color: #E8F0FE;\n",
              "      border: none;\n",
              "      border-radius: 50%;\n",
              "      cursor: pointer;\n",
              "      display: none;\n",
              "      fill: #1967D2;\n",
              "      height: 32px;\n",
              "      padding: 0 0 0 0;\n",
              "      width: 32px;\n",
              "    }\n",
              "\n",
              "    .colab-df-convert:hover {\n",
              "      background-color: #E2EBFA;\n",
              "      box-shadow: 0px 1px 2px rgba(60, 64, 67, 0.3), 0px 1px 3px 1px rgba(60, 64, 67, 0.15);\n",
              "      fill: #174EA6;\n",
              "    }\n",
              "\n",
              "    [theme=dark] .colab-df-convert {\n",
              "      background-color: #3B4455;\n",
              "      fill: #D2E3FC;\n",
              "    }\n",
              "\n",
              "    [theme=dark] .colab-df-convert:hover {\n",
              "      background-color: #434B5C;\n",
              "      box-shadow: 0px 1px 3px 1px rgba(0, 0, 0, 0.15);\n",
              "      filter: drop-shadow(0px 1px 2px rgba(0, 0, 0, 0.3));\n",
              "      fill: #FFFFFF;\n",
              "    }\n",
              "  </style>\n",
              "\n",
              "      <script>\n",
              "        const buttonEl =\n",
              "          document.querySelector('#df-1c471a5e-5962-4cda-b2c9-36c9641de3ed button.colab-df-convert');\n",
              "        buttonEl.style.display =\n",
              "          google.colab.kernel.accessAllowed ? 'block' : 'none';\n",
              "\n",
              "        async function convertToInteractive(key) {\n",
              "          const element = document.querySelector('#df-1c471a5e-5962-4cda-b2c9-36c9641de3ed');\n",
              "          const dataTable =\n",
              "            await google.colab.kernel.invokeFunction('convertToInteractive',\n",
              "                                                     [key], {});\n",
              "          if (!dataTable) return;\n",
              "\n",
              "          const docLinkHtml = 'Like what you see? Visit the ' +\n",
              "            '<a target=\"_blank\" href=https://colab.research.google.com/notebooks/data_table.ipynb>data table notebook</a>'\n",
              "            + ' to learn more about interactive tables.';\n",
              "          element.innerHTML = '';\n",
              "          dataTable['output_type'] = 'display_data';\n",
              "          await google.colab.output.renderOutput(dataTable, element);\n",
              "          const docLink = document.createElement('div');\n",
              "          docLink.innerHTML = docLinkHtml;\n",
              "          element.appendChild(docLink);\n",
              "        }\n",
              "      </script>\n",
              "    </div>\n",
              "  </div>\n",
              "  "
            ]
          },
          "metadata": {},
          "execution_count": 37
        }
      ]
    },
    {
      "cell_type": "code",
      "source": [
        "#We should first normalize our continuous variables and put the transformed data into a new dataframe.\n",
        "df = users\n",
        "scaler = MinMaxScaler()\n",
        "df[['trips_first_month', 'driver_rating', 'avg_surge', 'surge_pct', 'weekday_pct', 'avg_dist', 'user_rating']] = scaler.fit_transform(df[['trips_first_month', 'driver_rating', 'avg_surge', 'surge_pct', 'weekday_pct', 'avg_dist', 'user_rating']])\n"
      ],
      "metadata": {
        "id": "Ik9ifnQJMFLl"
      },
      "execution_count": 38,
      "outputs": []
    },
    {
      "cell_type": "code",
      "source": [
        "#Next, we'll dummify categorical variables.\n",
        "dummies = pd.get_dummies(users[['city', 'phone']])\n",
        "df = pd.concat([users, dummies], axis = 1)"
      ],
      "metadata": {
        "id": "QaPV2R2FMfn2"
      },
      "execution_count": 39,
      "outputs": []
    },
    {
      "cell_type": "code",
      "source": [
        "#Lastly, we'll cast our boolean values as 1s and 0s.\n",
        "df[['black_user', 'active']] = df[['black_user', 'active']].astype(int)"
      ],
      "metadata": {
        "id": "sqJzmpL2MmLG"
      },
      "execution_count": 40,
      "outputs": []
    },
    {
      "cell_type": "code",
      "source": [
        "#Finally, let's drop unneeded features.\n",
        "df.drop(['city', 'signup', 'last_trip', 'phone'], axis=1, inplace=True)"
      ],
      "metadata": {
        "id": "UDtuArBvPN3O"
      },
      "execution_count": 41,
      "outputs": []
    },
    {
      "cell_type": "code",
      "source": [
        "#A quick inspection to ensure our data is ready to be modeled.\n",
        "df.info()"
      ],
      "metadata": {
        "colab": {
          "base_uri": "https://localhost:8080/"
        },
        "id": "QeAUIlUjPeX5",
        "outputId": "5346e665-cffd-42a2-ebdc-bd2a7aaafa10"
      },
      "execution_count": 42,
      "outputs": [
        {
          "output_type": "stream",
          "name": "stdout",
          "text": [
            "<class 'pandas.core.frame.DataFrame'>\n",
            "RangeIndex: 50000 entries, 0 to 49999\n",
            "Data columns (total 15 columns):\n",
            " #   Column               Non-Null Count  Dtype  \n",
            "---  ------               --------------  -----  \n",
            " 0   trips_first_month    50000 non-null  float64\n",
            " 1   driver_rating        50000 non-null  float64\n",
            " 2   avg_surge            50000 non-null  float64\n",
            " 3   surge_pct            50000 non-null  float64\n",
            " 4   black_user           50000 non-null  int64  \n",
            " 5   weekday_pct          50000 non-null  float64\n",
            " 6   avg_dist             50000 non-null  float64\n",
            " 7   user_rating          50000 non-null  float64\n",
            " 8   active               50000 non-null  int64  \n",
            " 9   city_Astapor         50000 non-null  uint8  \n",
            " 10  city_King's Landing  50000 non-null  uint8  \n",
            " 11  city_Winterfell      50000 non-null  uint8  \n",
            " 12  phone_Android        50000 non-null  uint8  \n",
            " 13  phone_NA             50000 non-null  uint8  \n",
            " 14  phone_iPhone         50000 non-null  uint8  \n",
            "dtypes: float64(7), int64(2), uint8(6)\n",
            "memory usage: 3.7 MB\n"
          ]
        }
      ]
    },
    {
      "cell_type": "code",
      "source": [
        "df.head()"
      ],
      "metadata": {
        "colab": {
          "base_uri": "https://localhost:8080/",
          "height": 288
        },
        "id": "TUnt5LaZQpnF",
        "outputId": "92accaaf-69b0-4412-ceba-7f7a9b723b1d"
      },
      "execution_count": 43,
      "outputs": [
        {
          "output_type": "execute_result",
          "data": {
            "text/plain": [
              "   trips_first_month  driver_rating  avg_surge  surge_pct  black_user  \\\n",
              "0              0.032          0.925   0.014286      0.154           1   \n",
              "1              0.000          1.000   0.000000      0.000           0   \n",
              "2              0.024          0.825   0.000000      0.000           0   \n",
              "3              0.072          0.900   0.020000      0.200           1   \n",
              "4              0.112          0.850   0.027143      0.118           0   \n",
              "\n",
              "   weekday_pct  avg_dist  user_rating  active  city_Astapor  \\\n",
              "0        0.462  0.022801        1.000       1             0   \n",
              "1        0.500  0.051317        1.000       0             1   \n",
              "2        1.000  0.004784        1.000       0             1   \n",
              "3        0.800  0.014662        0.975       1             0   \n",
              "4        0.824  0.019446        0.975       0             0   \n",
              "\n",
              "   city_King's Landing  city_Winterfell  phone_Android  phone_NA  phone_iPhone  \n",
              "0                    1                0              0         0             1  \n",
              "1                    0                0              1         0             0  \n",
              "2                    0                0              0         0             1  \n",
              "3                    1                0              0         0             1  \n",
              "4                    0                1              1         0             0  "
            ],
            "text/html": [
              "\n",
              "  <div id=\"df-cef9a54e-99d2-4af5-9b9d-c324347ee90e\">\n",
              "    <div class=\"colab-df-container\">\n",
              "      <div>\n",
              "<style scoped>\n",
              "    .dataframe tbody tr th:only-of-type {\n",
              "        vertical-align: middle;\n",
              "    }\n",
              "\n",
              "    .dataframe tbody tr th {\n",
              "        vertical-align: top;\n",
              "    }\n",
              "\n",
              "    .dataframe thead th {\n",
              "        text-align: right;\n",
              "    }\n",
              "</style>\n",
              "<table border=\"1\" class=\"dataframe\">\n",
              "  <thead>\n",
              "    <tr style=\"text-align: right;\">\n",
              "      <th></th>\n",
              "      <th>trips_first_month</th>\n",
              "      <th>driver_rating</th>\n",
              "      <th>avg_surge</th>\n",
              "      <th>surge_pct</th>\n",
              "      <th>black_user</th>\n",
              "      <th>weekday_pct</th>\n",
              "      <th>avg_dist</th>\n",
              "      <th>user_rating</th>\n",
              "      <th>active</th>\n",
              "      <th>city_Astapor</th>\n",
              "      <th>city_King's Landing</th>\n",
              "      <th>city_Winterfell</th>\n",
              "      <th>phone_Android</th>\n",
              "      <th>phone_NA</th>\n",
              "      <th>phone_iPhone</th>\n",
              "    </tr>\n",
              "  </thead>\n",
              "  <tbody>\n",
              "    <tr>\n",
              "      <th>0</th>\n",
              "      <td>0.032</td>\n",
              "      <td>0.925</td>\n",
              "      <td>0.014286</td>\n",
              "      <td>0.154</td>\n",
              "      <td>1</td>\n",
              "      <td>0.462</td>\n",
              "      <td>0.022801</td>\n",
              "      <td>1.000</td>\n",
              "      <td>1</td>\n",
              "      <td>0</td>\n",
              "      <td>1</td>\n",
              "      <td>0</td>\n",
              "      <td>0</td>\n",
              "      <td>0</td>\n",
              "      <td>1</td>\n",
              "    </tr>\n",
              "    <tr>\n",
              "      <th>1</th>\n",
              "      <td>0.000</td>\n",
              "      <td>1.000</td>\n",
              "      <td>0.000000</td>\n",
              "      <td>0.000</td>\n",
              "      <td>0</td>\n",
              "      <td>0.500</td>\n",
              "      <td>0.051317</td>\n",
              "      <td>1.000</td>\n",
              "      <td>0</td>\n",
              "      <td>1</td>\n",
              "      <td>0</td>\n",
              "      <td>0</td>\n",
              "      <td>1</td>\n",
              "      <td>0</td>\n",
              "      <td>0</td>\n",
              "    </tr>\n",
              "    <tr>\n",
              "      <th>2</th>\n",
              "      <td>0.024</td>\n",
              "      <td>0.825</td>\n",
              "      <td>0.000000</td>\n",
              "      <td>0.000</td>\n",
              "      <td>0</td>\n",
              "      <td>1.000</td>\n",
              "      <td>0.004784</td>\n",
              "      <td>1.000</td>\n",
              "      <td>0</td>\n",
              "      <td>1</td>\n",
              "      <td>0</td>\n",
              "      <td>0</td>\n",
              "      <td>0</td>\n",
              "      <td>0</td>\n",
              "      <td>1</td>\n",
              "    </tr>\n",
              "    <tr>\n",
              "      <th>3</th>\n",
              "      <td>0.072</td>\n",
              "      <td>0.900</td>\n",
              "      <td>0.020000</td>\n",
              "      <td>0.200</td>\n",
              "      <td>1</td>\n",
              "      <td>0.800</td>\n",
              "      <td>0.014662</td>\n",
              "      <td>0.975</td>\n",
              "      <td>1</td>\n",
              "      <td>0</td>\n",
              "      <td>1</td>\n",
              "      <td>0</td>\n",
              "      <td>0</td>\n",
              "      <td>0</td>\n",
              "      <td>1</td>\n",
              "    </tr>\n",
              "    <tr>\n",
              "      <th>4</th>\n",
              "      <td>0.112</td>\n",
              "      <td>0.850</td>\n",
              "      <td>0.027143</td>\n",
              "      <td>0.118</td>\n",
              "      <td>0</td>\n",
              "      <td>0.824</td>\n",
              "      <td>0.019446</td>\n",
              "      <td>0.975</td>\n",
              "      <td>0</td>\n",
              "      <td>0</td>\n",
              "      <td>0</td>\n",
              "      <td>1</td>\n",
              "      <td>1</td>\n",
              "      <td>0</td>\n",
              "      <td>0</td>\n",
              "    </tr>\n",
              "  </tbody>\n",
              "</table>\n",
              "</div>\n",
              "      <button class=\"colab-df-convert\" onclick=\"convertToInteractive('df-cef9a54e-99d2-4af5-9b9d-c324347ee90e')\"\n",
              "              title=\"Convert this dataframe to an interactive table.\"\n",
              "              style=\"display:none;\">\n",
              "        \n",
              "  <svg xmlns=\"http://www.w3.org/2000/svg\" height=\"24px\"viewBox=\"0 0 24 24\"\n",
              "       width=\"24px\">\n",
              "    <path d=\"M0 0h24v24H0V0z\" fill=\"none\"/>\n",
              "    <path d=\"M18.56 5.44l.94 2.06.94-2.06 2.06-.94-2.06-.94-.94-2.06-.94 2.06-2.06.94zm-11 1L8.5 8.5l.94-2.06 2.06-.94-2.06-.94L8.5 2.5l-.94 2.06-2.06.94zm10 10l.94 2.06.94-2.06 2.06-.94-2.06-.94-.94-2.06-.94 2.06-2.06.94z\"/><path d=\"M17.41 7.96l-1.37-1.37c-.4-.4-.92-.59-1.43-.59-.52 0-1.04.2-1.43.59L10.3 9.45l-7.72 7.72c-.78.78-.78 2.05 0 2.83L4 21.41c.39.39.9.59 1.41.59.51 0 1.02-.2 1.41-.59l7.78-7.78 2.81-2.81c.8-.78.8-2.07 0-2.86zM5.41 20L4 18.59l7.72-7.72 1.47 1.35L5.41 20z\"/>\n",
              "  </svg>\n",
              "      </button>\n",
              "      \n",
              "  <style>\n",
              "    .colab-df-container {\n",
              "      display:flex;\n",
              "      flex-wrap:wrap;\n",
              "      gap: 12px;\n",
              "    }\n",
              "\n",
              "    .colab-df-convert {\n",
              "      background-color: #E8F0FE;\n",
              "      border: none;\n",
              "      border-radius: 50%;\n",
              "      cursor: pointer;\n",
              "      display: none;\n",
              "      fill: #1967D2;\n",
              "      height: 32px;\n",
              "      padding: 0 0 0 0;\n",
              "      width: 32px;\n",
              "    }\n",
              "\n",
              "    .colab-df-convert:hover {\n",
              "      background-color: #E2EBFA;\n",
              "      box-shadow: 0px 1px 2px rgba(60, 64, 67, 0.3), 0px 1px 3px 1px rgba(60, 64, 67, 0.15);\n",
              "      fill: #174EA6;\n",
              "    }\n",
              "\n",
              "    [theme=dark] .colab-df-convert {\n",
              "      background-color: #3B4455;\n",
              "      fill: #D2E3FC;\n",
              "    }\n",
              "\n",
              "    [theme=dark] .colab-df-convert:hover {\n",
              "      background-color: #434B5C;\n",
              "      box-shadow: 0px 1px 3px 1px rgba(0, 0, 0, 0.15);\n",
              "      filter: drop-shadow(0px 1px 2px rgba(0, 0, 0, 0.3));\n",
              "      fill: #FFFFFF;\n",
              "    }\n",
              "  </style>\n",
              "\n",
              "      <script>\n",
              "        const buttonEl =\n",
              "          document.querySelector('#df-cef9a54e-99d2-4af5-9b9d-c324347ee90e button.colab-df-convert');\n",
              "        buttonEl.style.display =\n",
              "          google.colab.kernel.accessAllowed ? 'block' : 'none';\n",
              "\n",
              "        async function convertToInteractive(key) {\n",
              "          const element = document.querySelector('#df-cef9a54e-99d2-4af5-9b9d-c324347ee90e');\n",
              "          const dataTable =\n",
              "            await google.colab.kernel.invokeFunction('convertToInteractive',\n",
              "                                                     [key], {});\n",
              "          if (!dataTable) return;\n",
              "\n",
              "          const docLinkHtml = 'Like what you see? Visit the ' +\n",
              "            '<a target=\"_blank\" href=https://colab.research.google.com/notebooks/data_table.ipynb>data table notebook</a>'\n",
              "            + ' to learn more about interactive tables.';\n",
              "          element.innerHTML = '';\n",
              "          dataTable['output_type'] = 'display_data';\n",
              "          await google.colab.output.renderOutput(dataTable, element);\n",
              "          const docLink = document.createElement('div');\n",
              "          docLink.innerHTML = docLinkHtml;\n",
              "          element.appendChild(docLink);\n",
              "        }\n",
              "      </script>\n",
              "    </div>\n",
              "  </div>\n",
              "  "
            ]
          },
          "metadata": {},
          "execution_count": 43
        }
      ]
    },
    {
      "cell_type": "markdown",
      "source": [
        "### 5. Modeling"
      ],
      "metadata": {
        "id": "yMFm6rCUM2lo"
      }
    },
    {
      "cell_type": "markdown",
      "source": [
        "For this binary classification problem, we'll use an ensemble learning method called Random Forest. Random Forests are typically quick to execute, take well to tuning, and are very interpretable. Other models we could explore, if needed, include Naive Bayes, Support Vector Machines, KNN, Extreme Gradient Boosting, or even Neural Networks."
      ],
      "metadata": {
        "id": "nA05xDpKYzeA"
      }
    },
    {
      "cell_type": "code",
      "source": [
        "#Let's define our predictors and target variable.\n",
        "X = df.drop(['active'], axis=1)\n",
        "y = df['active']"
      ],
      "metadata": {
        "id": "nMVA0q1cM9Pn"
      },
      "execution_count": 44,
      "outputs": []
    },
    {
      "cell_type": "code",
      "source": [
        "#Now, we'll split the data into training and test sets.\n",
        "X_train, X_test, y_train, y_test = train_test_split(X, y, test_size = 0.2, random_state=42)"
      ],
      "metadata": {
        "id": "_Z6D_z1fNggp"
      },
      "execution_count": 45,
      "outputs": []
    },
    {
      "cell_type": "code",
      "source": [
        "#We'll try a reliable ensemble model for this problem - Random Forest\n",
        "rf = RandomForestClassifier(random_state=42)\n",
        "\n",
        "#Train the model\n",
        "rf.fit(X_train, y_train)\n",
        "\n",
        "#Predict on test data\n",
        "y_pred = rf.predict(X_test)"
      ],
      "metadata": {
        "id": "EC7vLW8GN1gU"
      },
      "execution_count": 46,
      "outputs": []
    },
    {
      "cell_type": "markdown",
      "source": [
        "### 6. Evaluate"
      ],
      "metadata": {
        "id": "O9sR1tmeOMiS"
      }
    },
    {
      "cell_type": "code",
      "source": [
        "#Let's see how our model did.\n",
        "print(f'Training Accuracy: {rf.score(X_train, y_train)}')\n",
        "print(f'Testing Accuracy: {rf.score(X_test, y_test)}')"
      ],
      "metadata": {
        "colab": {
          "base_uri": "https://localhost:8080/"
        },
        "id": "Y-FejqcNOOnL",
        "outputId": "62068374-894b-4333-9f17-24de1dc1f7e0"
      },
      "execution_count": 47,
      "outputs": [
        {
          "output_type": "stream",
          "name": "stdout",
          "text": [
            "Training Accuracy: 0.99665\n",
            "Testing Accuracy: 0.7518\n"
          ]
        }
      ]
    },
    {
      "cell_type": "code",
      "source": [
        "print(\"Classification Report\")\n",
        "print(classification_report(y_test, y_pred))"
      ],
      "metadata": {
        "colab": {
          "base_uri": "https://localhost:8080/"
        },
        "id": "KBmpDZxRORy4",
        "outputId": "811952cb-f4ac-4be2-b042-4d975e19d6b6"
      },
      "execution_count": 48,
      "outputs": [
        {
          "output_type": "stream",
          "name": "stdout",
          "text": [
            "Classification Report\n",
            "              precision    recall  f1-score   support\n",
            "\n",
            "           0       0.79      0.81      0.80      6219\n",
            "           1       0.68      0.65      0.66      3781\n",
            "\n",
            "    accuracy                           0.75     10000\n",
            "   macro avg       0.74      0.73      0.73     10000\n",
            "weighted avg       0.75      0.75      0.75     10000\n",
            "\n"
          ]
        }
      ]
    },
    {
      "cell_type": "code",
      "source": [
        "#Plot confusion matrix\n",
        "cm = confusion_matrix(y_test, y_pred, labels = rf.classes_)\n",
        "_, ax = plt.subplots()\n",
        "display_cm = ConfusionMatrixDisplay(confusion_matrix = cm, \n",
        "                                    display_labels = ['Inactive', 'Active'])\n",
        "ax.set_xticks([0, 1])\n",
        "ax.set_yticks([0, 1])\n",
        "ax.set_xticklabels(labels = ['Inactive', 'Active'], fontsize = 8)\n",
        "ax.set_yticklabels(labels = ['Inactive', 'Active'], fontsize = 8)\n",
        "display_cm.plot(ax = ax)"
      ],
      "metadata": {
        "colab": {
          "base_uri": "https://localhost:8080/",
          "height": 301
        },
        "id": "snt00K7POXGj",
        "outputId": "8b90a772-1fd5-468f-e3a4-90f7bda04d3a"
      },
      "execution_count": 49,
      "outputs": [
        {
          "output_type": "execute_result",
          "data": {
            "text/plain": [
              "<sklearn.metrics._plot.confusion_matrix.ConfusionMatrixDisplay at 0x7effcf2681c0>"
            ]
          },
          "metadata": {},
          "execution_count": 49
        },
        {
          "output_type": "display_data",
          "data": {
            "text/plain": [
              "<Figure size 432x288 with 2 Axes>"
            ],
            "image/png": "[encoded data removed]"
          },
          "metadata": {}
        }
      ]
    },
    {
      "cell_type": "code",
      "source": [
        "plot_roc_curve(rf, X_test, y_test)"
      ],
      "metadata": {
        "colab": {
          "base_uri": "https://localhost:8080/",
          "height": 357
        },
        "id": "ofrpl0jMayF6",
        "outputId": "e009b7d4-1e88-444a-a041-1fd8f21d5d7d"
      },
      "execution_count": 50,
      "outputs": [
        {
          "output_type": "stream",
          "name": "stderr",
          "text": [
            "/usr/local/lib/python3.8/dist-packages/sklearn/utils/deprecation.py:87: FutureWarning: Function plot_roc_curve is deprecated; Function :func:`plot_roc_curve` is deprecated in 1.0 and will be removed in 1.2. Use one of the class methods: :meth:`sklearn.metric.RocCurveDisplay.from_predictions` or :meth:`sklearn.metric.RocCurveDisplay.from_estimator`.\n",
            "  warnings.warn(msg, category=FutureWarning)\n"
          ]
        },
        {
          "output_type": "execute_result",
          "data": {
            "text/plain": [
              "<sklearn.metrics._plot.roc_curve.RocCurveDisplay at 0x7effcfa537f0>"
            ]
          },
          "metadata": {},
          "execution_count": 50
        },
        {
          "output_type": "display_data",
          "data": {
            "text/plain": [
              "<Figure size 432x288 with 1 Axes>"
            ],
            "image/png": "[encoded data removed]"
          },
          "metadata": {}
        }
      ]
    },
    {
      "cell_type": "code",
      "source": [
        "#Let's plot feature importance\n",
        "feature_importance = rf.feature_importances_\n",
        "# make importances relative to max importance\n",
        "feature_importance = 100.0 * (feature_importance / feature_importance.max())[:30]\n",
        "sorted_idx = np.argsort(feature_importance)[:40]\n",
        "\n",
        "pos = np.arange(sorted_idx.shape[0]) + .5\n",
        "print(pos.size)\n",
        "sorted_idx.size\n",
        "plt.figure(figsize=(10,10))\n",
        "plt.barh(pos, feature_importance[sorted_idx], align='center')\n",
        "plt.yticks(pos, X.columns[sorted_idx])\n",
        "plt.xlabel('Relative Importance')\n",
        "plt.title('Variable Importance')\n",
        "plt.show()"
      ],
      "metadata": {
        "colab": {
          "base_uri": "https://localhost:8080/",
          "height": 644
        },
        "id": "jFA1m00aOt__",
        "outputId": "59656436-d24f-4b09-94c2-e1f1842a0131"
      },
      "execution_count": 51,
      "outputs": [
        {
          "output_type": "stream",
          "name": "stdout",
          "text": [
            "14\n"
          ]
        },
        {
          "output_type": "display_data",
          "data": {
            "text/plain": [
              "<Figure size 720x720 with 1 Axes>"
            ],
            "image/png": "[encoded data removed]"
          },
          "metadata": {}
        }
      ]
    },
    {
      "cell_type": "markdown",
      "source": [
        "### 7. Model Tuning"
      ],
      "metadata": {
        "id": "cwxJwkV3Yosk"
      }
    },
    {
      "cell_type": "markdown",
      "source": [
        "Our AUC of 0.82 is impressive, but this can be tuned for better performance."
      ],
      "metadata": {
        "id": "MfLjNL4AbEjN"
      }
    },
    {
      "cell_type": "code",
      "source": [
        "params = {'n_estimators': [300, 500], 'max_depth': [15, 30], 'min_samples_split': [3, 5], 'min_samples_leaf': [5, 7]}\n",
        "\n",
        "#As this is a classification problem, we will optimate for the AUC.\n",
        "rf_clf = RandomForestClassifier(random_state=42)\n",
        "rf_gs = GridSearchCV(rf_clf, params, cv=3, scoring='roc_auc', n_jobs=-1)\n",
        "\n",
        "#Let's fit the grid\n",
        "rf_gs.fit(X_train, y_train)\n",
        "\n",
        "#Make our predictions\n",
        "y_pred_gs = rf_gs.predict(X_test)"
      ],
      "metadata": {
        "id": "Dhmdj0BpbIwR"
      },
      "execution_count": 56,
      "outputs": []
    },
    {
      "cell_type": "code",
      "source": [
        "#Grab our best score\n",
        "rf_gs.best_score_"
      ],
      "metadata": {
        "colab": {
          "base_uri": "https://localhost:8080/"
        },
        "id": "tXa14D61cacP",
        "outputId": "95f2692a-6ce5-4355-fc15-fad2bfc37763"
      },
      "execution_count": 60,
      "outputs": [
        {
          "output_type": "execute_result",
          "data": {
            "text/plain": [
              "0.8510681379334578"
            ]
          },
          "metadata": {},
          "execution_count": 60
        }
      ]
    },
    {
      "cell_type": "code",
      "source": [
        "#Grab our best estimators\n",
        "rf_gs.best_estimator_ "
      ],
      "metadata": {
        "colab": {
          "base_uri": "https://localhost:8080/"
        },
        "id": "Lf-xa4h-cfrY",
        "outputId": "2ab04930-0911-4a33-bdd1-206cea24a2a6"
      },
      "execution_count": 58,
      "outputs": [
        {
          "output_type": "execute_result",
          "data": {
            "text/plain": [
              "RandomForestClassifier(max_depth=15, min_samples_leaf=7, min_samples_split=3,\n",
              "                       n_estimators=500, random_state=42)"
            ]
          },
          "metadata": {},
          "execution_count": 58
        }
      ]
    },
    {
      "cell_type": "code",
      "source": [
        "print(\"Classification Report\")\n",
        "print(classification_report(y_test, y_pred_gs))"
      ],
      "metadata": {
        "colab": {
          "base_uri": "https://localhost:8080/"
        },
        "id": "1f-QHbCUi9So",
        "outputId": "dcd00a6f-a302-42c3-e6ef-08effdaf8cd0"
      },
      "execution_count": 59,
      "outputs": [
        {
          "output_type": "stream",
          "name": "stdout",
          "text": [
            "Classification Report\n",
            "              precision    recall  f1-score   support\n",
            "\n",
            "           0       0.81      0.86      0.83      6219\n",
            "           1       0.74      0.66      0.70      3781\n",
            "\n",
            "    accuracy                           0.78     10000\n",
            "   macro avg       0.77      0.76      0.76     10000\n",
            "weighted avg       0.78      0.78      0.78     10000\n",
            "\n"
          ]
        }
      ]
    },
    {
      "cell_type": "code",
      "source": [
        "#Plot confusion matrix\n",
        "cm = confusion_matrix(y_test, y_pred_gs, labels = rf_gs.classes_)\n",
        "_, ax = plt.subplots()\n",
        "display_cm = ConfusionMatrixDisplay(confusion_matrix = cm, \n",
        "                                    display_labels = ['Inactive', 'Active'])\n",
        "ax.set_xticks([0, 1])\n",
        "ax.set_yticks([0, 1])\n",
        "ax.set_xticklabels(labels = ['Inactive', 'Active'], fontsize = 8)\n",
        "ax.set_yticklabels(labels = ['Inactive', 'Active'], fontsize = 8)\n",
        "display_cm.plot(ax = ax)"
      ],
      "metadata": {
        "colab": {
          "base_uri": "https://localhost:8080/",
          "height": 301
        },
        "id": "RNOcLVMZjFhm",
        "outputId": "26b41c99-0923-4d97-b27f-c1c095e468f0"
      },
      "execution_count": 61,
      "outputs": [
        {
          "output_type": "execute_result",
          "data": {
            "text/plain": [
              "<sklearn.metrics._plot.confusion_matrix.ConfusionMatrixDisplay at 0x7effcdfe7af0>"
            ]
          },
          "metadata": {},
          "execution_count": 61
        },
        {
          "output_type": "display_data",
          "data": {
            "text/plain": [
              "<Figure size 432x288 with 2 Axes>"
            ],
            "image/png": "[encoded data removed]"
          },
          "metadata": {}
        }
      ]
    },
    {
      "cell_type": "code",
      "source": [
        "plot_roc_curve(rf_gs, X_test, y_test)"
      ],
      "metadata": {
        "colab": {
          "base_uri": "https://localhost:8080/",
          "height": 357
        },
        "id": "H2rDTTtXjL1m",
        "outputId": "38904356-5868-42aa-e011-c49603a48074"
      },
      "execution_count": 64,
      "outputs": [
        {
          "output_type": "stream",
          "name": "stderr",
          "text": [
            "/usr/local/lib/python3.8/dist-packages/sklearn/utils/deprecation.py:87: FutureWarning: Function plot_roc_curve is deprecated; Function :func:`plot_roc_curve` is deprecated in 1.0 and will be removed in 1.2. Use one of the class methods: :meth:`sklearn.metric.RocCurveDisplay.from_predictions` or :meth:`sklearn.metric.RocCurveDisplay.from_estimator`.\n",
            "  warnings.warn(msg, category=FutureWarning)\n"
          ]
        },
        {
          "output_type": "execute_result",
          "data": {
            "text/plain": [
              "<sklearn.metrics._plot.roc_curve.RocCurveDisplay at 0x7effcbd638b0>"
            ]
          },
          "metadata": {},
          "execution_count": 64
        },
        {
          "output_type": "display_data",
          "data": {
            "text/plain": [
              "<Figure size 432x288 with 1 Axes>"
            ],
            "image/png": "[encoded data removed]"
          },
          "metadata": {}
        }
      ]
    },
    {
      "cell_type": "markdown",
      "source": [
        "We've managed to boost the AUC to 0.85"
      ],
      "metadata": {
        "id": "w4B-5oAjk97n"
      }
    },
    {
      "cell_type": "code",
      "source": [
        "#Let's plot feature importance\n",
        "feature_importance = rf_gs.best_estimator_.feature_importances_\n",
        "# make importances relative to max importance\n",
        "feature_importance = 100.0 * (feature_importance / feature_importance.max())[:30]\n",
        "sorted_idx = np.argsort(feature_importance)[:40]\n",
        "\n",
        "pos = np.arange(sorted_idx.shape[0]) + .5\n",
        "print(pos.size)\n",
        "sorted_idx.size\n",
        "plt.figure(figsize=(10,10))\n",
        "plt.barh(pos, feature_importance[sorted_idx], align='center')\n",
        "plt.yticks(pos, X.columns[sorted_idx])\n",
        "plt.xlabel('Relative Importance')\n",
        "plt.title('Variable Importance')\n",
        "plt.show()"
      ],
      "metadata": {
        "colab": {
          "base_uri": "https://localhost:8080/",
          "height": 644
        },
        "id": "JaJ1OQy5jStr",
        "outputId": "86320e11-a921-4b95-a7a1-69769038c141"
      },
      "execution_count": 66,
      "outputs": [
        {
          "output_type": "stream",
          "name": "stdout",
          "text": [
            "14\n"
          ]
        },
        {
          "output_type": "display_data",
          "data": {
            "text/plain": [
              "<Figure size 720x720 with 1 Axes>"
            ],
            "image/png": "[encoded data removed]"
          },
          "metadata": {}
        }
      ]
    },
    {
      "cell_type": "markdown",
      "source": [
        "### 8. Conclusions"
      ],
      "metadata": {
        "id": "C4M1fagsOvHP"
      }
    },
    {
      "cell_type": "markdown",
      "source": [
        "Our tuned random forest model shows different feature importances than our untuned model. From this model, we can make recommendations to Ultimate to improve its ability to keep riders active.\n",
        "\n",
        "1.) Active users seem to be rated well by drivers, and the amount of weekday rides they take seems to be a factor that should be investigated further. It's possible weekday riders are using the service as transportation to and from work.\n",
        "\n",
        "2.) The frequency of surge increases seems to heavily influence ridership. This should also be investigated further. Perhaps riders in certain cities are experiencing more rides with a surge charge, dissuading ridership. We know toll fees were being absorbed by drivers, and perhaps this is reflected in the surge charge for a city that is out of the way?\n",
        "\n",
        "3.) Whether or not a rider is coming from King's Landing seems to have significant influence on whether or not that rider remains active or not. This, too, is worth investigating further. Is it possible King's Landing is isolated from the other two cities in our dataset? Perhaps users in King's Landing experience longer trips and therefore, higher and more frequent surge charges?\n",
        "\n",
        "4.) Finally, trips in the first month and whether or not a user is a Black Ultimate member seems to play a part in rider retention.\n",
        "\n",
        "In conclusion, we can't make a concrete recommendation based on this data alone. However, there are some questions worth digging into more deeply. \n",
        "\n",
        "If I were to make a recommendation based on this model, it would be two-fold. First, an incentive program to encourage weekday ridership if the rider is a highly rated passenger. Ultimate may be able to create more active users if customers see a need for the service beyond a weekend taxi service. We know being an Ultimate Black member has some importance to our model, so perhaps this feature could be rolled into the Black service.\n",
        "\n",
        "Another recommendation is likely involve reduing the surge charge for those traveling to and from King's Landing. By reimbursing toll fees and spreading out costs associated with surge pricing across Astapor and Winterfell, Ultimate may be better able to expand and retain ridership."
      ],
      "metadata": {
        "id": "nS84IKmmOzEK"
      }
    }
  ]
}